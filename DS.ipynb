{
 "cells": [
  {
   "cell_type": "markdown",
   "metadata": {
    "id": "8k81Vd4m6PmE"
   },
   "source": [
    "Binary search tree right node remova"
   ]
  },
  {
   "cell_type": "code",
   "execution_count": null,
   "metadata": {
    "colab": {
     "base_uri": "https://localhost:8080/"
    },
    "id": "ReJ0Lkkz6TPp",
    "outputId": "0c2db6af-f2ea-4a73-e5be-f46a695b937b"
   },
   "outputs": [
    {
     "name": "stdout",
     "output_type": "stream",
     "text": [
      "Build tree is: ['USA', 'UK', 'Singapore', 'UAE', 'USA', 'UK']\n",
      "USA is in list or not ? True\n",
      "China is in list or not ? None\n",
      "Build tree is: [19, 10, 12, 13, 10, 19]\n",
      "Build tree is: [17, 4, 1, 20, 9, 23, 18, 34]\n",
      "After deleting 20  [1, 4, 9, 17, 18, 23, 34]\n",
      "In order traversal: [10, 12, 13, 19]\n",
      "In order traversal [1, 4, 9, 17, 18, 23, 34]\n",
      "Post order traversal: [13, 12, 10, 19]\n",
      "Pre order traversal: [19, 10, 12, 13]\n",
      "maximum nunber: 19\n",
      "minimum number: 10\n"
     ]
    }
   ],
   "source": [
    "class binarynode:\n",
    "  def __init__(self,data):\n",
    "    self.data = data\n",
    "    self.left = None\n",
    "    self.right = None\n",
    "  \n",
    "  def add_child(self,data):\n",
    "    if data == self.data:\n",
    "      return # node is already exists\n",
    "    if data < self.data:\n",
    "      if self.left:\n",
    "        self.left.add_child(data)\n",
    "      else:\n",
    "        self.left = binarynode(data)\n",
    "    if data > self.data:\n",
    "      if self.right:\n",
    "        self.right.add_child(data)\n",
    "      else:\n",
    "        self.right = binarynode(data)\n",
    "  def search(self,val):\n",
    "    if self.data == val:\n",
    "      return True \n",
    "    \n",
    "    if val < self.data:\n",
    "      if self.left:\n",
    "        self.left.search(val)\n",
    "      else:\n",
    "        return False\n",
    "    \n",
    "    if val > self.data:\n",
    "      if self.right:\n",
    "        self.right.search(val)\n",
    "      else:\n",
    "        return False\n",
    "    \n",
    "  def in_order_traversal(self):\n",
    "    elements = []\n",
    "    if self.left:\n",
    "      elements += self.left.in_order_traversal()\n",
    "    \n",
    "    elements.append(self.data)\n",
    "\n",
    "    if self.right:\n",
    "      elements += self.right.in_order_traversal()\n",
    "\n",
    "    return elements\n",
    "\n",
    "  def post_order_traversal(self):\n",
    "    elements = []\n",
    "    if self.left:\n",
    "      elements += self.left.post_order_traversal()\n",
    "    \n",
    "    if self.right:\n",
    "      elements += self.right.post_order_traversal()\n",
    "\n",
    "    elements.append(self.data)\n",
    "    return elements\n",
    "\n",
    "  def pre_order_traversal(self):\n",
    "    elements =[self.data]\n",
    "\n",
    "    if self.left:\n",
    "      elements += self.left.pre_order_traversal()\n",
    "\n",
    "    if self.right:\n",
    "      elements += self.right.pre_order_traversal()\n",
    "    \n",
    "    return elements\n",
    "\n",
    "  def find_min(self):\n",
    "    if self.left is None:\n",
    "      return self.data\n",
    "    return self.left.find_min()\n",
    "\n",
    "  def find_max(self):\n",
    "    if self.right is None:\n",
    "      return self.data\n",
    "    return self.right.find_max()\n",
    "  \n",
    "  def delete(self,val):\n",
    "    if val < self.data:\n",
    "      if self.left:\n",
    "        self.left.delete(val)\n",
    "    elif val >self.data:\n",
    "      if self.right:\n",
    "        self.right.delete(val)\n",
    "    else:\n",
    "      if self.left is None and self.right is None:\n",
    "        return None\n",
    "      if self.left is None:\n",
    "        return self.right\n",
    "      if self.right is None:\n",
    "        return self.left\n",
    "\n",
    "      min_val = self.right.find_min()\n",
    "      self.data = min_val\n",
    "      self.right = self.right.delete(min_val)\n",
    "    \n",
    "    return self\n",
    "\n",
    "\n",
    "def build_tree(elements):\n",
    "  print(\"Build tree is:\", elements)\n",
    "  root = binarynode(elements[0])\n",
    "\n",
    "  for i in range(1,len(elements)):\n",
    "    root.add_child(elements[i])\n",
    "\n",
    "  return root\n",
    "\n",
    "\n",
    "if __name__ == '__main__':\n",
    "  country = build_tree([\"USA\",\"UK\",\"Singapore\",\"UAE\",\"USA\",\"UK\"])\n",
    "  print(\"USA is in list or not ?\",country.search(\"USA\"))\n",
    "  print(\"China is in list or not ?\",country.search(\"China\"))\n",
    "  numbers =build_tree([19,10,12,13,10,19])\n",
    "  numbers.delete(12)\n",
    "  numbers_tree = build_tree([17, 4, 1, 20, 9, 23, 18, 34])\n",
    "  numbers_tree.delete(20)\n",
    "  print(\"After deleting 20 \",numbers_tree.in_order_traversal())\n",
    "  print(\"In order traversal:\",numbers.in_order_traversal())\n",
    "  print(\"In order traversal\",numbers_tree.in_order_traversal())\n",
    "  print(\"Post order traversal:\",numbers.post_order_traversal())\n",
    "  print(\"Pre order traversal:\",numbers.pre_order_traversal())\n",
    "  print(\"maximum nunber:\", numbers.find_max())\n",
    "  print(\"minimum number:\", numbers.find_min())"
   ]
  },
  {
   "cell_type": "markdown",
   "metadata": {
    "id": "L5VMDbsZfv6B"
   },
   "source": [
    "Binary node left side removal"
   ]
  },
  {
   "cell_type": "code",
   "execution_count": null,
   "metadata": {
    "colab": {
     "base_uri": "https://localhost:8080/"
    },
    "id": "x_xmvsyAC6k1",
    "outputId": "a66c9e20-5490-4e87-fe47-9608675f746f"
   },
   "outputs": [
    {
     "name": "stdout",
     "output_type": "stream",
     "text": [
      "Build tree is: ['USA', 'UK', 'Singapore', 'UAE', 'USA', 'UK']\n",
      "USA is in list or not ? True\n",
      "China is in list or not ? None\n",
      "Build tree is: [19, 10, 12, 13, 10, 19]\n",
      "Build tree is: [17, 4, 1, 20, 9, 23, 18, 34]\n",
      "After deleting 20  [1, 9, 17, 18, 20, 23, 34]\n",
      "In order traversal: [10, 12, 13, 19]\n",
      "In order traversal [1, 9, 17, 18, 20, 23, 34]\n",
      "Post order traversal: [13, 12, 10, 19]\n",
      "Pre order traversal: [19, 10, 12, 13]\n",
      "maximum nunber: 19\n",
      "minimum number: 10\n",
      "maximum nunber: 34\n",
      "minimum number: 1\n"
     ]
    }
   ],
   "source": [
    "class binarytree:\n",
    "  def __init__(self,data):\n",
    "    self.data = data\n",
    "    self.left = None\n",
    "    self.right = None\n",
    "  \n",
    "  def add_child_node(self,data):\n",
    "    if data == self.data:\n",
    "      return \n",
    "    \n",
    "    if data < self.data:\n",
    "      if self.left:\n",
    "        self.left.add_child_node(data)\n",
    "      else:\n",
    "        self.left = binarytree(data)\n",
    "    \n",
    "    if data > self.data:\n",
    "      if self.right:\n",
    "        self.right.add_child_node(data)\n",
    "      \n",
    "      else:\n",
    "        self.right = binarytree(data)\n",
    "\n",
    "  def search(self,val):\n",
    "    if self.data == val:\n",
    "      return True\n",
    "    \n",
    "    if val < self.data:\n",
    "      if self.left:\n",
    "        self.left.search(val)\n",
    "      else:\n",
    "        return False\n",
    "    if val > self.data:\n",
    "      if self.right:\n",
    "        self.right.search(val)\n",
    "      else:\n",
    "        return False\n",
    "\n",
    "  def in_order_traversal(self):\n",
    "    elements = []\n",
    "\n",
    "    if self.left:\n",
    "      elements += self.left.in_order_traversal()\n",
    "\n",
    "    elements.append(self.data)\n",
    "      \n",
    "    if self.right:\n",
    "      elements += self.right.in_order_traversal()\n",
    "\n",
    "    return elements\n",
    "\n",
    "  def post_order_traversal(self):\n",
    "    elements = [] \n",
    "\n",
    "    if self.left:\n",
    "      elements += self.left.post_order_traversal()\n",
    "\n",
    "    if self.right:\n",
    "      elements += self.right.post_order_traversal()\n",
    "\n",
    "    elements.append(self.data)        \n",
    "    \n",
    "    return elements\n",
    "\n",
    "  def pre_order_traversal(self):\n",
    "    elements = [self.data]\n",
    "\n",
    "    if self.left:\n",
    "      elements += self.left.pre_order_traversal()\n",
    "\n",
    "    if self.right:\n",
    "      elements += self.right.pre_order_traversal()\n",
    "\n",
    "    return elements\n",
    "\n",
    "  def find_max(self):\n",
    "    if self.right is None:\n",
    "      return self.data\n",
    "    return self.right.find_max()\n",
    "\n",
    "  def find_min(self):\n",
    "    if self.left is None:\n",
    "      return self.data\n",
    "    return self.left.find_min()\n",
    "\n",
    "  def delete(self,val):\n",
    "    if val < self.data:\n",
    "      if self.left:\n",
    "        self.left.delete(val)\n",
    "\n",
    "    elif val > self.data:\n",
    "      if self.right:\n",
    "        self.right.delete(val)\n",
    "    \n",
    "    else:\n",
    "      if self.left is None and self.right is None:\n",
    "        return None\n",
    "      elif self.left is None:\n",
    "        return self.right\n",
    "      elif self.right is None:\n",
    "        return self.left\n",
    "\n",
    "      max_val = self.left.find_max()\n",
    "      self.data = max_val\n",
    "      self.left = self.left.delete(max_val)\n",
    "\n",
    "    return self\n",
    "\n",
    "\n",
    "def build_tree(elements):\n",
    "  print(\"Build tree is:\", elements)\n",
    "  root = binarynode(elements[0])\n",
    "\n",
    "  for i in range(1,len(elements)):\n",
    "    root.add_child(elements[i])\n",
    "\n",
    "  return root\n",
    "\n",
    "\n",
    "if __name__ == '__main__':\n",
    "  country = build_tree([\"USA\",\"UK\",\"Singapore\",\"UAE\",\"USA\",\"UK\"])\n",
    "  print(\"USA is in list or not ?\",country.search(\"USA\"))\n",
    "  print(\"China is in list or not ?\",country.search(\"China\"))\n",
    "  numbers =build_tree([19,10,12,13,10,19])\n",
    "  numbers.delete(10)\n",
    "  numbers_tree = build_tree([17, 4, 1, 20, 9, 23, 18, 34])\n",
    "  numbers_tree.delete(4)\n",
    "  print(\"After deleting 20 \",numbers_tree.in_order_traversal())\n",
    "  print(\"In order traversal:\",numbers.in_order_traversal())\n",
    "  print(\"In order traversal\",numbers_tree.in_order_traversal())\n",
    "  print(\"Post order traversal:\",numbers.post_order_traversal())\n",
    "  print(\"Pre order traversal:\",numbers.pre_order_traversal())\n",
    "  print(\"maximum nunber:\", numbers.find_max())\n",
    "  print(\"minimum number:\", numbers.find_min())\n",
    "  print(\"maximum nunber:\", numbers_tree.find_max())\n",
    "  print(\"minimum number:\", numbers_tree.find_min())"
   ]
  },
  {
   "cell_type": "markdown",
   "metadata": {
    "id": "KNCWU4ds9bIL"
   },
   "source": [
    "Graph Tree"
   ]
  },
  {
   "cell_type": "markdown",
   "metadata": {
    "id": "J3cszAksR_Yd"
   },
   "source": [
    "To find the possible ways of graph"
   ]
  },
  {
   "cell_type": "code",
   "execution_count": null,
   "metadata": {
    "colab": {
     "base_uri": "https://localhost:8080/"
    },
    "id": "qqDXd3oVfTT2",
    "outputId": "6198ab84-a272-4c90-9aa3-c4d0d2e7ed91"
   },
   "outputs": [
    {
     "name": "stdout",
     "output_type": "stream",
     "text": [
      "graph routes: {'Chennai': ['Paris', 'Dubai'], 'Paris': ['New York', 'Dubai'], 'Dubai': ['New York'], 'New York': ['Toronto']}\n",
      "the route path for: Chennai and New York [['Chennai', 'Paris', 'New York'], ['Chennai', 'Paris', 'Dubai', 'New York'], ['Chennai', 'Dubai', 'New York']]\n"
     ]
    }
   ],
   "source": [
    "class Graph:\n",
    "  def __init__(self,edges):\n",
    "    self.edges = edges\n",
    "    self.graph_dict = {}\n",
    "\n",
    "    for start, end in self.edges:\n",
    "      if start in self.graph_dict:\n",
    "        self.graph_dict[start].append(end)\n",
    "\n",
    "      else:\n",
    "        self.graph_dict[start] = [end]\n",
    "  \n",
    "  def get_path(self,start,end,path=[]):\n",
    "    path = path + [start]\n",
    "    \n",
    "    if start == end:\n",
    "      return[path]\n",
    "      \n",
    "    if start not in self.graph_dict:\n",
    "      return []\n",
    "    \n",
    "    paths = []\n",
    "    for node in self.graph_dict[start]:\n",
    "      if node not in path:\n",
    "        new_paths = self.get_path(node, end, path)\n",
    "        for p in new_paths:\n",
    "          paths.append(p)\n",
    "\n",
    "    return paths\n",
    "\n",
    "\n",
    "\n",
    "if __name__ == '__main__':\n",
    "  routes  = [(\"Chennai\",\"Paris\"),\n",
    "             (\"Chennai\",\"Dubai\"),\n",
    "             (\"Paris\",\"New York\"),\n",
    "             (\"Paris\",\"Dubai\"),\n",
    "             (\"Dubai\",\"New York\"),\n",
    "             (\"New York\",\"Toronto\")\n",
    "             ]\n",
    "  route_graph = Graph(routes)\n",
    "  start = \"Chennai\"\n",
    "  end = \"New York\"\n",
    "  print(\"graph routes:\",route_graph.graph_dict)\n",
    "  print(f\"the route path for: {start} and {end}\",route_graph.get_path(start,end))"
   ]
  },
  {
   "cell_type": "code",
   "execution_count": null,
   "metadata": {
    "colab": {
     "base_uri": "https://localhost:8080/"
    },
    "id": "lsD6_-V7DUkr",
    "outputId": "e0ee99aa-7953-41d7-fdc8-cbf4e606df0f"
   },
   "outputs": [
    {
     "name": "stdout",
     "output_type": "stream",
     "text": [
      "graph routes: {'Chennai': ['Paris', 'Dubai'], 'Paris': ['New York', 'Dubai'], 'Dubai': ['New York'], 'New York': ['Toronto']}\n",
      "the route path for: Chennai and New York [['Chennai', 'Paris', 'New York'], ['Chennai', 'Paris', 'Dubai', 'New York'], ['Chennai', 'Dubai', 'New York']]\n",
      "the shortest route path for: Chennai and New York [['Chennai', 'Paris', 'New York']]\n"
     ]
    }
   ],
   "source": [
    "class GraphTree:\n",
    "  def __init__(self,edges):\n",
    "    self.edges = edges\n",
    "    self.graph_dict = {}\n",
    "\n",
    "    for start, end in self.edges:\n",
    "      if start in self.graph_dict:\n",
    "        self.graph_dict[start].append(end)\n",
    "      \n",
    "      else:\n",
    "        self.graph_dict[start] = [end]\n",
    "  \n",
    "  def get_path(self,start,end,path=[]):\n",
    "    path = path + [start]\n",
    "\n",
    "    if start == end:\n",
    "      return[path]\n",
    "    \n",
    "    if start not in self.graph_dict:\n",
    "      return []\n",
    "\n",
    "    paths = []\n",
    "\n",
    "    for node in self.graph_dict[start]:\n",
    "      if node not in path:\n",
    "        new_path = self.get_path(node, end, path)\n",
    "        for p in new_path:\n",
    "          paths.append(p)\n",
    "    \n",
    "    return paths\n",
    "\n",
    "  def get_shortest_path(self,start,end,path=[]):\n",
    "    path = path + [start]\n",
    "\n",
    "    if start == end:\n",
    "      return[path]\n",
    "\n",
    "    if start not in self.graph_dict:\n",
    "      return None\n",
    "\n",
    "    shortpath = None\n",
    "\n",
    "    for node in self.graph_dict[start]:\n",
    "      if node not in path:\n",
    "        sp = self.get_shortest_path(node, end, path)\n",
    "        if sp:\n",
    "          if shortpath is None or len(sp) < len(shortpath):\n",
    "            shortpath = sp\n",
    "    \n",
    "    return shortpath\n",
    "\n",
    "if __name__ == '__main__':\n",
    "   routes  = [(\"Chennai\",\"Paris\"),\n",
    "             (\"Chennai\",\"Dubai\"),\n",
    "             (\"Paris\",\"New York\"),\n",
    "             (\"Paris\",\"Dubai\"),\n",
    "             (\"Dubai\",\"New York\"),\n",
    "             (\"New York\",\"Toronto\")\n",
    "             ]\n",
    "   route_graph = GraphTree(routes)\n",
    "   start = \"Chennai\"\n",
    "   end = \"New York\"\n",
    "   print(\"graph routes:\",route_graph.graph_dict)\n",
    "   print(f\"the route path for: {start} and {end}\",route_graph.get_path(start,end))\n",
    "   print(f\"the shortest route path for: {start} and {end}\",route_graph.get_shortest_path(start,end))"
   ]
  },
  {
   "cell_type": "markdown",
   "metadata": {
    "id": "qHKDmcQqWDy5"
   },
   "source": [
    "Linear Search"
   ]
  },
  {
   "cell_type": "code",
   "execution_count": null,
   "metadata": {
    "colab": {
     "base_uri": "https://localhost:8080/"
    },
    "id": "afdijNVcWHOI",
    "outputId": "c629e675-a0eb-44dd-a5b9-7df42d88ed76"
   },
   "outputs": [
    {
     "name": "stdout",
     "output_type": "stream",
     "text": [
      "the given number index position: 4\n"
     ]
    }
   ],
   "source": [
    "def linear_search(number_list,number_to_find):\n",
    "  for index,elements in enumerate(number_list):\n",
    "    if elements == number_to_find:\n",
    "      return index\n",
    "  return -1\n",
    "\n",
    "\n",
    "\n",
    "if __name__ == '__main__':\n",
    "  number_list = [20,10,11,21,34,34,3435,22]\n",
    "  number_to_find = 34\n",
    "\n",
    "  index = linear_search(number_list, number_to_find)\n",
    "  print(f\"the given number index position: {index}\")\n"
   ]
  },
  {
   "cell_type": "markdown",
   "metadata": {
    "id": "Yfx_5QsEk5ue"
   },
   "source": [
    "Binary search "
   ]
  },
  {
   "cell_type": "code",
   "execution_count": null,
   "metadata": {
    "colab": {
     "base_uri": "https://localhost:8080/"
    },
    "id": "CpY2cPbFckX7",
    "outputId": "d932b745-fa14-48f0-9734-a5f1f0b6180a"
   },
   "outputs": [
    {
     "name": "stdout",
     "output_type": "stream",
     "text": [
      "The index position is 8\n"
     ]
    }
   ],
   "source": [
    "def binarysearch(number_list, number_to_find):\n",
    "  left_index = 0\n",
    "  right_index = len(number_list) -1\n",
    "  mid_index = 0\n",
    "\n",
    "  while left_index <= right_index:\n",
    "    mid_index = (left_index + right_index)//2\n",
    "    mid_number = number_list[mid_index]\n",
    "\n",
    "    if mid_number == number_to_find:\n",
    "      return mid_index\n",
    "\n",
    "    if mid_number < number_to_find:\n",
    "      left_index = mid_index + 1\n",
    "\n",
    "    else:\n",
    "      right_index = mid_index + 1\n",
    "\n",
    "  return -1\n",
    "\n",
    "\n",
    "if __name__ == '__main__':\n",
    "  number_list = [7,11.12,13,13,15,15,18,18,20,21]\n",
    "  number_to_find = 20\n",
    "  index = binarysearch(number_list, number_to_find)\n",
    "  print(f\"The index position is {index}\")    "
   ]
  },
  {
   "cell_type": "markdown",
   "metadata": {
    "id": "Prb-DBRwpFeM"
   },
   "source": [
    "binary recursive"
   ]
  },
  {
   "cell_type": "code",
   "execution_count": null,
   "metadata": {
    "colab": {
     "base_uri": "https://localhost:8080/"
    },
    "id": "-2nmOn9Iodh1",
    "outputId": "1aefbcea-69a9-470a-f9e6-6abb14b8aeb8"
   },
   "outputs": [
    {
     "name": "stdout",
     "output_type": "stream",
     "text": [
      "Number found at index 1 using binary search\n"
     ]
    }
   ],
   "source": [
    "def binaryrecursive(number_list,number_to_find,left_index,right_index):\n",
    "\n",
    "  if right_index < left_index:\n",
    "    return -1\n",
    "  \n",
    "  \n",
    "  mid_index = (left_index + right_index) // 2\n",
    "\n",
    "  if mid_index >= len(number_list) or mid_index < 0:\n",
    "    return -1\n",
    "  mid_number = number_list[mid_index]\n",
    "\n",
    "  if mid_number == number_to_find:\n",
    "    return mid_index\n",
    "\n",
    "  if mid_number < number_to_find:\n",
    "    left_index = mid_index + 1\n",
    "\n",
    "  if mid_number > number_to_find:\n",
    "    right_index = mid_index - 1\n",
    "\n",
    "  return binaryrecursive(number_list,number_to_find,left_index,right_index)\n",
    "\n",
    "\n",
    "if __name__ == '__main__':\n",
    "    numbers_list = [12, 15, 17, 19, 21, 24, 45, 67]\n",
    "    number_to_find = 15\n",
    "    left_index = 0\n",
    "    right_index = len(number_list)\n",
    "    index = binaryrecursive(numbers_list, number_to_find, left_index, right_index)\n",
    "    print(f\"Number found at index {index} using binary search\")"
   ]
  },
  {
   "cell_type": "markdown",
   "metadata": {
    "id": "NVE02ZpVyQUS"
   },
   "source": [
    "Binarysearch second method to print duplicate"
   ]
  },
  {
   "cell_type": "code",
   "execution_count": null,
   "metadata": {
    "colab": {
     "base_uri": "https://localhost:8080/"
    },
    "id": "Y49Ip5wjs7cg",
    "outputId": "bad48419-d910-404a-9396-5c8704599793"
   },
   "outputs": [
    {
     "name": "stdout",
     "output_type": "stream",
     "text": [
      "Number found at index -1 using binary search\n"
     ]
    }
   ],
   "source": [
    "def binaryrecursive(number_list,number_to_find,left_index,right_index):\n",
    "\n",
    "  if right_index < left_index:\n",
    "    return -1\n",
    "  \n",
    "  \n",
    "  mid_index = (left_index + right_index) // 2\n",
    "\n",
    "  if mid_index >= len(number_list) or mid_index < 0:\n",
    "    return -1\n",
    "  mid_number = number_list[mid_index]\n",
    "\n",
    "  if mid_number == number_to_find:\n",
    "    return mid_index\n",
    "\n",
    "  if mid_number < number_to_find:\n",
    "    left_index = mid_index + 1\n",
    "\n",
    "  if mid_number > number_to_find:\n",
    "    right_index = mid_index - 1\n",
    "\n",
    "  return binaryrecursive(number_list,number_to_find,left_index,right_index)\n",
    "\n",
    "#  When I try to find number 5 in below list using binary search, it doesn't work and returns me -1 index. Why is that?\n",
    "#  numbers = [1,4,6,9,10,5,7]\n",
    "#  Answer: It is because the list is not sorted! Binary search requires that list has to be sorted\n",
    "\n",
    "if __name__ == '__main__':\n",
    "    number_list = [1,4,6,9,10,5,7]\n",
    "    number_to_find = 5 \n",
    "    left_index = 0\n",
    "    right_index = len(number_list)\n",
    "    index = binaryrecursive(number_list, number_to_find,left_index,right_index)\n",
    "    print(f\"Number found at index {index} using binary search\")"
   ]
  },
  {
   "cell_type": "code",
   "execution_count": null,
   "metadata": {
    "colab": {
     "base_uri": "https://localhost:8080/"
    },
    "id": "sguipl4u1b8X",
    "outputId": "de8af860-6e3c-4967-f19c-e1fbd56793ca"
   },
   "outputs": [
    {
     "name": "stdout",
     "output_type": "stream",
     "text": [
      "The no of index position for 15 is [5, 6, 7]\n"
     ]
    }
   ],
   "source": [
    "def find_all_the_occurence(numbers,number_to_find):\n",
    "  index_position = []\n",
    "\n",
    "  for i in range(len(numbers)):\n",
    "    if numbers[i] == number_to_find:\n",
    "      index_position.append(i)\n",
    "  return index_position\n",
    "\n",
    "numbers = [1,4,6,9,11,15,15,15,17,21,34,34,56]\n",
    "index = find_all_the_occurence(numbers,15)\n",
    "print(f\"The no of index position for 15 is {index}\")"
   ]
  },
  {
   "cell_type": "markdown",
   "metadata": {
    "id": "6c7qdNLzPpkn"
   },
   "source": [
    "# Bubble Sort"
   ]
  },
  {
   "cell_type": "markdown",
   "metadata": {
    "id": "AjTtldCQPu05"
   },
   "source": [
    "simple method for bubble sort"
   ]
  },
  {
   "cell_type": "code",
   "execution_count": null,
   "metadata": {
    "colab": {
     "base_uri": "https://localhost:8080/"
    },
    "id": "SsD65Epy6Lbj",
    "outputId": "52f8bfe4-9c72-40a4-f210-bbaa41b8e93f"
   },
   "outputs": [
    {
     "name": "stdout",
     "output_type": "stream",
     "text": [
      "[1, 2, 5, 9, 34, 34, 67, 88]\n"
     ]
    }
   ],
   "source": [
    "def bubblesort(elements):\n",
    "  size = len(elements)\n",
    "\n",
    "  for i in range(size-1):\n",
    "\n",
    "    for j in range(size-1):\n",
    "      if elements[j] > elements[j+1]:\n",
    "        tmp = elements[j]\n",
    "        elements[j] = elements[j+1]\n",
    "        elements[j+1] = tmp\n",
    "\n",
    "if __name__ == \"__main__\":\n",
    "  elements = [5,9,2,1,67,34,88,34]\n",
    "  bubblesort(elements)\n",
    "  print(elements)"
   ]
  },
  {
   "cell_type": "markdown",
   "metadata": {
    "id": "GUnU6m7eSHuJ"
   },
   "source": [
    "Another method for bubble sort"
   ]
  },
  {
   "cell_type": "code",
   "execution_count": null,
   "metadata": {
    "colab": {
     "base_uri": "https://localhost:8080/"
    },
    "id": "WaRXgj7MazSc",
    "outputId": "71028a63-fde1-4d63-9bd8-c29cce63a1df"
   },
   "outputs": [
    {
     "name": "stdout",
     "output_type": "stream",
     "text": [
      "[{'name': 'kathy', 'transaction_amount': 200, 'device': 'vivo'}, {'name': 'dhaval', 'transaction_amount': 400, 'device': 'google pixel'}, {'name': 'aamir', 'transaction_amount': 800, 'device': 'iphone-8'}, {'name': 'mona', 'transaction_amount': 1000, 'device': 'iphone-10'}]\n"
     ]
    }
   ],
   "source": [
    "#sorting transaction amount\n",
    "def bubble_sort(elements, key=None):\n",
    "  size = len(elements)\n",
    "\n",
    "  for i in range(size-1):\n",
    "    swap = False\n",
    "    \n",
    "    for j in range(size-1):\n",
    "      a = elements[j][key]\n",
    "      b = elements[j+1][key]\n",
    "\n",
    "      if a > b:\n",
    "        tmp = elements[j]\n",
    "        elements[j] = elements[j+1]\n",
    "        elements[j+1] = tmp\n",
    "        swap = True\n",
    "      \n",
    "    if not swap:\n",
    "      break\n",
    "if __name__ == \"__main__\":\n",
    "  elements = [\n",
    "        { 'name': 'mona',   'transaction_amount': 1000, 'device': 'iphone-10'},\n",
    "        { 'name': 'dhaval', 'transaction_amount': 400,  'device': 'google pixel'},\n",
    "        { 'name': 'kathy',  'transaction_amount': 200,  'device': 'vivo'},\n",
    "        { 'name': 'aamir',  'transaction_amount': 800,  'device': 'iphone-8'},\n",
    "    ]\n",
    "\n",
    "  bubble_sort(elements,key='transaction_amount')\n",
    "  print(elements)"
   ]
  },
  {
   "cell_type": "code",
   "execution_count": null,
   "metadata": {
    "colab": {
     "base_uri": "https://localhost:8080/"
    },
    "id": "0qIaDbr5cO3n",
    "outputId": "2b874f9e-f686-4eb0-ff6e-950812842952"
   },
   "outputs": [
    {
     "name": "stdout",
     "output_type": "stream",
     "text": [
      "[{'name': 'aamir', 'transaction_amount': 800, 'device': 'iphone-8'}, {'name': 'dhaval', 'transaction_amount': 400, 'device': 'google pixel'}, {'name': 'kathy', 'transaction_amount': 200, 'device': 'vivo'}, {'name': 'mona', 'transaction_amount': 1000, 'device': 'iphone-10'}]\n"
     ]
    }
   ],
   "source": [
    "#sorting name\n",
    "def bubble_sort(elements, key=None):\n",
    "  size = len(elements)\n",
    "\n",
    "  for i in range(size-1):\n",
    "    swap = False\n",
    "    \n",
    "    for j in range(size-1-i):\n",
    "      a = elements[j][key]\n",
    "      b = elements[j+1][key]\n",
    "\n",
    "      if a > b:\n",
    "        tmp = elements[j]\n",
    "        elements[j] = elements[j+1]\n",
    "        elements[j+1] = tmp\n",
    "        swap = True\n",
    "      \n",
    "    if not swap:\n",
    "      break\n",
    "if __name__ == \"__main__\":\n",
    "  elements = [\n",
    "        { 'name': 'mona',   'transaction_amount': 1000, 'device': 'iphone-10'},\n",
    "        { 'name': 'dhaval', 'transaction_amount': 400,  'device': 'google pixel'},\n",
    "        { 'name': 'kathy',  'transaction_amount': 200,  'device': 'vivo'},\n",
    "        { 'name': 'aamir',  'transaction_amount': 800,  'device': 'iphone-8'},\n",
    "    ]\n",
    "\n",
    "  bubble_sort(elements,key='name')\n",
    "  print(elements)"
   ]
  },
  {
   "cell_type": "markdown",
   "metadata": {
    "id": "uQJl265WiwVF"
   },
   "source": [
    "Quick Sort"
   ]
  },
  {
   "cell_type": "code",
   "execution_count": null,
   "metadata": {
    "colab": {
     "base_uri": "https://localhost:8080/"
    },
    "id": "DnWp4QyWctkB",
    "outputId": "75602d80-b81a-4729-8053-1726f5e086f5"
   },
   "outputs": [
    {
     "name": "stdout",
     "output_type": "stream",
     "text": [
      "[2, 7, 9, 11, 15, 28, 29]\n",
      "sorted array: [2, 7, 9, 11, 15, 28, 29]\n",
      "sorted array: [3, 7, 9, 11]\n",
      "sorted array: [10, 21, 22, 25]\n",
      "sorted array: [15, 28, 29]\n",
      "sorted array: []\n",
      "sorted array: [6]\n"
     ]
    }
   ],
   "source": [
    "# implementation of quick sort in python using hoare partition scheme\n",
    "\n",
    "def swap(a, b, arr):\n",
    "    if a!=b:\n",
    "        tmp = arr[a]\n",
    "        arr[a] = arr[b]\n",
    "        arr[b] = tmp\n",
    "\n",
    "def quick_sort(elements, start, end):\n",
    "    if start < end:\n",
    "        pi = partition(elements, start, end)\n",
    "        quick_sort(elements, start, pi-1)\n",
    "        quick_sort(elements, pi+1, end)\n",
    "\n",
    "def partition(elements, start, end):\n",
    "    pivot_index = start\n",
    "    pivot = elements[pivot_index]\n",
    "\n",
    "    while start < end:\n",
    "        while start < len(elements) and elements[start] <= pivot:\n",
    "            start+=1\n",
    "\n",
    "        while elements[end] > pivot:\n",
    "            end-=1\n",
    "\n",
    "        if start < end:\n",
    "            swap(start, end, elements)\n",
    "\n",
    "    swap(pivot_index, end, elements)\n",
    "\n",
    "    return end\n",
    "\n",
    "\n",
    "if __name__ == '__main__':\n",
    "    elements = [11,9,29,7,2,15,28]\n",
    "    # elements = [\"mona\", \"dhaval\", \"aamir\", \"tina\", \"chang\"]\n",
    "    quick_sort(elements, 0, len(elements)-1)\n",
    "    print(elements)\n",
    "\n",
    "    tests = [\n",
    "        [11,9,29,7,2,15,28],\n",
    "        [3, 7, 9, 11],\n",
    "        [25, 22, 21, 10],\n",
    "        [29, 15, 28],\n",
    "        [],\n",
    "        [6]\n",
    "    ]\n",
    "\n",
    "    for elements in tests:\n",
    "        quick_sort(elements, 0, len(elements)-1)\n",
    "        print(f'sorted array: {elements}')\n"
   ]
  },
  {
   "cell_type": "code",
   "execution_count": null,
   "metadata": {
    "colab": {
     "base_uri": "https://localhost:8080/"
    },
    "id": "F8tvDs49jBO0",
    "outputId": "b60db20a-b406-4ce8-fd39-0846ce2c608f"
   },
   "outputs": [
    {
     "name": "stdout",
     "output_type": "stream",
     "text": [
      "sorted array: [2, 7, 9, 11, 15, 28, 29]\n",
      "sorted array: [3, 7, 9, 11]\n",
      "sorted array: [10, 21, 22, 25]\n",
      "sorted array: [15, 28, 29]\n",
      "sorted array: []\n",
      "sorted array: [6]\n"
     ]
    }
   ],
   "source": [
    "#This implements quick sort using lomuto partition scheme\n",
    "\n",
    "def swap(a, b, arr):\n",
    "    if a!=b:\n",
    "        tmp = arr[a]\n",
    "        arr[a] = arr[b]\n",
    "        arr[b] = tmp\n",
    "\n",
    "def quick_sort(elements, start, end):\n",
    "    if len(elements)== 1:\n",
    "        return\n",
    "    if start < end:\n",
    "        pi = partition(elements, start, end)\n",
    "        quick_sort(elements, start, pi-1)\n",
    "        quick_sort(elements, pi+1, end)\n",
    "\n",
    "def partition(elements, start, end):\n",
    "    pivot = elements[end]\n",
    "    p_index = start\n",
    "\n",
    "    for i in range(start, end):\n",
    "        if elements[i] <= pivot:\n",
    "            swap(i, p_index, elements)\n",
    "            p_index += 1\n",
    "\n",
    "    swap(p_index, end, elements)\n",
    "\n",
    "    return p_index\n",
    "\n",
    "\n",
    "if __name__ == '__main__':\n",
    "    tests = [\n",
    "        [11,9,29,7,2,15,28],\n",
    "        [3, 7, 9, 11],\n",
    "        [25, 22, 21, 10],\n",
    "        [29, 15, 28],\n",
    "        [],\n",
    "        [6]\n",
    "    ]\n",
    "    # elements = [\"mona\", \"dhaval\", \"aamir\", \"tina\", \"chang\"]\n",
    "\n",
    "    for elements in tests:\n",
    "        quick_sort(elements, 0, len(elements)-1)\n",
    "        print(f'sorted array: {elements}')"
   ]
  },
  {
   "cell_type": "markdown",
   "metadata": {
    "id": "re2H7GhtjSj6"
   },
   "source": [
    "Insertion Sort"
   ]
  },
  {
   "cell_type": "code",
   "execution_count": null,
   "metadata": {
    "colab": {
     "base_uri": "https://localhost:8080/"
    },
    "id": "FnZpCJd3jIPi",
    "outputId": "28e6e959-571b-4e19-ee86-3f029ff6606f"
   },
   "outputs": [
    {
     "name": "stdout",
     "output_type": "stream",
     "text": [
      "[2, 7, 9, 11, 15, 28, 29]\n",
      "sorted array: [2, 7, 9, 11, 15, 28, 29]\n",
      "sorted array: [3, 7, 9, 11]\n",
      "sorted array: [10, 21, 22, 25]\n",
      "sorted array: [15, 28, 29]\n",
      "sorted array: []\n",
      "sorted array: [6]\n"
     ]
    }
   ],
   "source": [
    "def insertion_sort(elements):\n",
    "  for i in range(1,len(elements)):\n",
    "    part = elements[i]\n",
    "    j = i-1\n",
    "\n",
    "    while j>=0 and part < elements[j]:\n",
    "      elements[j+1] = elements[j]\n",
    "      j= j-1\n",
    "    \n",
    "    elements[j+1] = part\n",
    "if __name__ == \"__main__\":\n",
    "  elements = [11,9,29,7,2,15,28]\n",
    "  insertion_sort(elements)\n",
    "  print(elements)\n",
    "\n",
    "  tests = [\n",
    "        [11,9,29,7,2,15,28],\n",
    "        [3, 7, 9, 11],\n",
    "        [25, 22, 21, 10],\n",
    "        [29, 15, 28],\n",
    "        [],\n",
    "        [6]\n",
    "    ]\n",
    "\n",
    "  for elements in tests:\n",
    "    insertion_sort(elements)\n",
    "    print(f\"sorted array: {elements}\")"
   ]
  },
  {
   "cell_type": "markdown",
   "metadata": {
    "id": "VDwQ0_yxrfHO"
   },
   "source": []
  },
  {
   "cell_type": "markdown",
   "metadata": {
    "id": "Yu8K5610rfNT"
   },
   "source": [
    "Merge sort"
   ]
  },
  {
   "cell_type": "code",
   "execution_count": null,
   "metadata": {
    "colab": {
     "base_uri": "https://localhost:8080/"
    },
    "id": "9pBUqFYtnnl1",
    "outputId": "62572676-71b4-49b0-9a18-5219947c9409"
   },
   "outputs": [
    {
     "name": "stdout",
     "output_type": "stream",
     "text": [
      "[3, 7, 8, 10, 15, 23, 29, 98]\n",
      "[]\n",
      "[3]\n",
      "[2, 7, 8, 9]\n",
      "[1, 2, 3, 4, 5]\n"
     ]
    }
   ],
   "source": [
    "def merge_sort(arr):\n",
    "    if len(arr) <= 1:\n",
    "        return\n",
    "\n",
    "    mid = len(arr)//2\n",
    "\n",
    "    left = arr[:mid]\n",
    "    right = arr[mid:]\n",
    "\n",
    "    merge_sort(left)\n",
    "    merge_sort(right)\n",
    "\n",
    "    merge_two_sorted_lists(left, right, arr)\n",
    "\n",
    "def merge_two_sorted_lists(a,b,arr):\n",
    "    len_a = len(a)\n",
    "    len_b = len(b)\n",
    "\n",
    "    i = j = k = 0\n",
    "\n",
    "    while i < len_a and j < len_b:\n",
    "        if a[i] <= b[j]:\n",
    "            arr[k] = a[i]\n",
    "            i+=1\n",
    "        else:\n",
    "            arr[k] = b[j]\n",
    "            j+=1\n",
    "        k+=1\n",
    "\n",
    "    while i < len_a:\n",
    "        arr[k] = a[i]\n",
    "        i+=1\n",
    "        k+=1\n",
    "\n",
    "    while j < len_b:\n",
    "        arr[k] = b[j]\n",
    "        j+=1\n",
    "        k+=1\n",
    "\n",
    "if __name__ == '__main__':\n",
    "    test_cases = [\n",
    "        [10, 3, 15, 7, 8, 23, 98, 29],\n",
    "        [],\n",
    "        [3],\n",
    "        [9,8,7,2],\n",
    "        [1,2,3,4,5]\n",
    "    ]\n",
    "\n",
    "    for arr in test_cases:\n",
    "        merge_sort(arr)\n",
    "        print(arr)"
   ]
  },
  {
   "cell_type": "code",
   "execution_count": null,
   "metadata": {
    "colab": {
     "base_uri": "https://localhost:8080/"
    },
    "id": "8zZp02Zirhe0",
    "outputId": "8b144d58-328d-4d9c-8223-6a251bf66820"
   },
   "outputs": [
    {
     "name": "stdout",
     "output_type": "stream",
     "text": [
      "[3, 7, 8, 10, 15, 23, 29, 98]\n"
     ]
    }
   ],
   "source": [
    "#merge primitive sort\n",
    "def merge_sort(arr):\n",
    "    if len(arr) <= 1:\n",
    "        return arr\n",
    "\n",
    "    mid = len(arr)//2\n",
    "\n",
    "    left = arr[:mid]\n",
    "    right = arr[mid:]\n",
    "\n",
    "    left = merge_sort(left)\n",
    "    right = merge_sort(right)\n",
    "\n",
    "    return merge_two_sorted_lists(left, right)\n",
    "\n",
    "def merge_two_sorted_lists(a,b):\n",
    "    sorted_list = []\n",
    "\n",
    "    len_a = len(a)\n",
    "    len_b = len(b)\n",
    "\n",
    "    i = j = 0\n",
    "\n",
    "    while i < len_a and j < len_b:\n",
    "        if a[i] <= b[j]:\n",
    "            sorted_list.append(a[i])\n",
    "            i+=1\n",
    "        else:\n",
    "            sorted_list.append(b[j])\n",
    "            j+=1\n",
    "\n",
    "    while i < len_a:\n",
    "        sorted_list.append(a[i])\n",
    "        i+=1\n",
    "\n",
    "    while j < len_b:\n",
    "        sorted_list.append(b[j])\n",
    "        j+=1\n",
    "\n",
    "    return sorted_list\n",
    "\n",
    "if __name__ == '__main__':\n",
    "    arr = [10,3,15,7,8,23,98,29]\n",
    "\n",
    "    print(merge_sort(arr))"
   ]
  },
  {
   "cell_type": "code",
   "execution_count": null,
   "metadata": {
    "colab": {
     "base_uri": "https://localhost:8080/"
    },
    "id": "fTLfzIAvroKN",
    "outputId": "c701b3c7-963f-4733-a7b9-3077d456dae1"
   },
   "outputs": [
    {
     "name": "stdout",
     "output_type": "stream",
     "text": [
      "[{'name': 'rajab', 'age': 12, 'time_hours': 3}, {'name': 'vignesh', 'age': 21, 'time_hours': 2.5}, {'name': 'chinmay', 'age': 24, 'time_hours': 1.5}, {'name': 'vedanth', 'age': 17, 'time_hours': 1}]\n"
     ]
    }
   ],
   "source": [
    "# you can use this to sort strings too\n",
    "def merge_sort(elements, key, descending=False):\n",
    "    size = len(elements)\n",
    "\n",
    "    if size == 1:\n",
    "        return elements\n",
    "\n",
    "    left_list = merge_sort(elements[0:size//2], key, descending)\n",
    "    right_list = merge_sort(elements[size//2:], key, descending)\n",
    "    sorted_list = merge(left_list, right_list, key, descending)\n",
    "\n",
    "    return sorted_list\n",
    "\n",
    "    \n",
    "def merge(left_list, right_list, key, descending=False):\n",
    "    merged = []\n",
    "    if descending:\n",
    "        while len(left_list) > 0 and len(right_list) > 0:\n",
    "            if left_list[0][key] >= right_list[0][key]:\n",
    "                merged.append(left_list.pop(0))\n",
    "            else:\n",
    "                merged.append(right_list.pop(0))\n",
    "\n",
    "    else:\n",
    "        while len(left_list) > 0 and len(right_list) > 0:\n",
    "            if left_list[0][key] <= right_list[0][key]:\n",
    "                merged.append(left_list.pop(0))\n",
    "            else:\n",
    "                merged.append(right_list.pop(0))\n",
    "\n",
    "    merged.extend(left_list)\n",
    "    merged.extend(right_list)\n",
    "    return merged\n",
    "\n",
    "if __name__ == '__main__':\n",
    "    elements = [\n",
    "        { 'name': 'vedanth',   'age': 17, 'time_hours': 1},\n",
    "        { 'name': 'rajab', 'age': 12,  'time_hours': 3},\n",
    "        { 'name': 'vignesh',  'age': 21,  'time_hours': 2.5},\n",
    "        { 'name': 'chinmay',  'age': 24,  'time_hours': 1.5},\n",
    "    ]\n",
    "\n",
    "    sorted_list = merge_sort(elements, key='time_hours', descending=True)\n",
    "    print(sorted_list)"
   ]
  },
  {
   "cell_type": "markdown",
   "metadata": {
    "id": "n3hAPFqgsHGs"
   },
   "source": [
    "Shell sort"
   ]
  },
  {
   "cell_type": "code",
   "execution_count": null,
   "metadata": {
    "colab": {
     "base_uri": "https://localhost:8080/"
    },
    "id": "9Kh3xbAKrss8",
    "outputId": "5fb071a0-249e-43b4-930d-5348351a8886"
   },
   "outputs": [
    {
     "name": "stdout",
     "output_type": "stream",
     "text": [
      "[1, 2, 6, 7, 9, 12, 17, 21, 23, 53, 61, 78, 89]\n",
      "[]\n",
      "[1, 5, 8, 9]\n",
      "[1, 3, 9, 12, 12, 34, 56, 234, 1300]\n",
      "[5]\n"
     ]
    }
   ],
   "source": [
    "\n",
    "def shell_sort(arr):\n",
    "    size = len(arr)\n",
    "    gap = size//2\n",
    "\n",
    "    while gap > 0:\n",
    "        for i in range(gap,size):\n",
    "            anchor = arr[i]\n",
    "            j = i\n",
    "            while j>=gap and arr[j-gap]>anchor:\n",
    "                arr[j] = arr[j-gap]\n",
    "                j -= gap\n",
    "            arr[j] = anchor\n",
    "        gap = gap // 2\n",
    "\n",
    "def foo(arr):\n",
    "    size = len(arr)\n",
    "    gap = size // 2\n",
    "    gap = 3\n",
    "    for i in range(gap, size):\n",
    "        anchor = arr[i]\n",
    "        j = i\n",
    "        while j>=gap and arr[j-gap]>anchor:\n",
    "            arr[j] = arr[j-gap]\n",
    "            j -= gap\n",
    "        arr[j] = anchor\n",
    "\n",
    "if __name__ == '__main__':\n",
    "    tests = [\n",
    "        [89, 78, 61, 53, 23, 21, 17, 12, 9, 7, 6, 2, 1],\n",
    "        [],\n",
    "        [1,5,8,9],\n",
    "        [234,3,1,56,34,12,9,12,1300],\n",
    "        [5]\n",
    "    ]\n",
    "    elements = [89,78,61,53,23,21,17,12,9,7,6,2,1]\n",
    "    for elements in tests:\n",
    "        shell_sort(elements)\n",
    "        print(elements)"
   ]
  },
  {
   "cell_type": "code",
   "execution_count": null,
   "metadata": {
    "colab": {
     "base_uri": "https://localhost:8080/"
    },
    "id": "zC5Ha4ansIpv",
    "outputId": "805fb460-51ba-4e1e-becb-05c4ba3cf7c8"
   },
   "outputs": [
    {
     "name": "stdout",
     "output_type": "stream",
     "text": [
      "Given unsorted list: [2, 1, 5, 7, 2, 0, 5, 1, 2, 9, 5, 8, 3]\n",
      "List after Sorting : [0, 1, 2, 3, 5, 7, 8, 9]\n"
     ]
    }
   ],
   "source": [
    "'''For example, given the unsorted list [2, 1, 5, 7, 2, 0, 5, 1, 2, 9, 5, 8, 3], \n",
    "after sorting using shell sort without duplicates, the sorted list would be:'''\n",
    "def shell_sort(arr):\n",
    "    n = len(arr)\n",
    "    div = 2\n",
    "    gap = n//div\n",
    "    while gap > 0:\n",
    "        index_to_delete = []\n",
    "        for i in range(gap, n):\n",
    "            temp = arr[i]\n",
    "            j = i\n",
    "            while j >= gap and arr[j-gap] >= temp:\n",
    "                if arr[j-gap] == temp:\n",
    "                    index_to_delete.append(j)\n",
    "                arr[j] = arr[j-gap]\n",
    "                j -= gap\n",
    "            arr[j] = temp\n",
    "        index_to_delete=list(set(index_to_delete))\n",
    "        index_to_delete.sort()\n",
    "        if index_to_delete:\n",
    "            for i in index_to_delete[-1::-1]:\n",
    "                del arr[i]\n",
    "        div *= 2\n",
    "        n = len(arr)\n",
    "        gap = n//div\n",
    "\n",
    "\n",
    "if __name__ == '__main__':\n",
    "    elements = [2, 1, 5, 7, 2, 0, 5, 1, 2, 9,  5, 8, 3]\n",
    "\n",
    "    print(f'Given unsorted list: {elements}')\n",
    "    shell_sort(elements)\n",
    "    print(f'List after Sorting : {elements}')"
   ]
  },
  {
   "cell_type": "markdown",
   "metadata": {
    "id": "zVWiUHMMsjz-"
   },
   "source": [
    "Selection sort"
   ]
  },
  {
   "cell_type": "code",
   "execution_count": null,
   "metadata": {
    "colab": {
     "base_uri": "https://localhost:8080/"
    },
    "id": "oakU7aolscgx",
    "outputId": "a39bffe1-b9b7-4205-d5e5-2af9b07c9836"
   },
   "outputs": [
    {
     "name": "stdout",
     "output_type": "stream",
     "text": [
      "[1, 2, 6, 7, 9, 12, 17, 21, 23, 53, 61, 78, 89]\n",
      "[]\n",
      "[1, 5, 8, 9]\n",
      "[1, 3, 9, 12, 12, 34, 56, 234, 1300]\n",
      "[8, 12, 15, 23, 27, 53, 61, 78]\n",
      "[5]\n"
     ]
    }
   ],
   "source": [
    "def selection_sort(arr):\n",
    "    size = len(arr)\n",
    "    for i in range(size-1):\n",
    "        min_index = i\n",
    "        for j in range(min_index+1,size):\n",
    "            if arr[j] < arr[min_index]:\n",
    "                min_index = j\n",
    "        if i != min_index:\n",
    "            arr[i], arr[min_index] = arr[min_index], arr[i]\n",
    "\n",
    "\n",
    "if __name__ == '__main__':\n",
    "    tests = [\n",
    "        [89, 78, 61, 53, 23, 21, 17, 12, 9, 7, 6, 2, 1],\n",
    "        [],\n",
    "        [1,5,8,9],\n",
    "        [234,3,1,56,34,12,9,12,1300],\n",
    "        [78, 12, 15, 8, 61, 53, 23, 27],\n",
    "        [5]\n",
    "    ]\n",
    "    for elements in tests:\n",
    "        selection_sort(elements)\n",
    "        print(elements)"
   ]
  },
  {
   "cell_type": "code",
   "execution_count": null,
   "metadata": {
    "colab": {
     "base_uri": "https://localhost:8080/"
    },
    "id": "GbvZWqdSsmKQ",
    "outputId": "36302bdd-1dc6-4876-ce04-e2b8ce901b8b"
   },
   "outputs": [
    {
     "name": "stdout",
     "output_type": "stream",
     "text": [
      "Given unsorted array:\n",
      "{'First Name': 'Raj', 'Last Name': 'Nayyar'}\n",
      "{'First Name': 'Suraj', 'Last Name': 'Sharma'}\n",
      "{'First Name': 'Karan', 'Last Name': 'Kumar'}\n",
      "{'First Name': 'Jade', 'Last Name': 'Canary'}\n",
      "{'First Name': 'Raj', 'Last Name': 'Thakur'}\n",
      "{'First Name': 'Raj', 'Last Name': 'Sharma'}\n",
      "{'First Name': 'Kiran', 'Last Name': 'Kamla'}\n",
      "{'First Name': 'Armaan', 'Last Name': 'Kumar'}\n",
      "{'First Name': 'Jaya', 'Last Name': 'Sharma'}\n",
      "{'First Name': 'Ingrid', 'Last Name': 'Galore'}\n",
      "{'First Name': 'Jaya', 'Last Name': 'Seth'}\n",
      "{'First Name': 'Armaan', 'Last Name': 'Dadra'}\n",
      "{'First Name': 'Ingrid', 'Last Name': 'Maverick'}\n",
      "{'First Name': 'Aahana', 'Last Name': 'Arora'}\n",
      "Array after Multi-Level Sorting:\n",
      "{'First Name': 'Aahana', 'Last Name': 'Arora'}\n",
      "{'First Name': 'Armaan', 'Last Name': 'Dadra'}\n",
      "{'First Name': 'Armaan', 'Last Name': 'Kumar'}\n",
      "{'First Name': 'Ingrid', 'Last Name': 'Galore'}\n",
      "{'First Name': 'Ingrid', 'Last Name': 'Maverick'}\n",
      "{'First Name': 'Jade', 'Last Name': 'Canary'}\n",
      "{'First Name': 'Jaya', 'Last Name': 'Seth'}\n",
      "{'First Name': 'Jaya', 'Last Name': 'Sharma'}\n",
      "{'First Name': 'Karan', 'Last Name': 'Kumar'}\n",
      "{'First Name': 'Kiran', 'Last Name': 'Kamla'}\n",
      "{'First Name': 'Raj', 'Last Name': 'Sharma'}\n",
      "{'First Name': 'Raj', 'Last Name': 'Nayyar'}\n",
      "{'First Name': 'Raj', 'Last Name': 'Thakur'}\n",
      "{'First Name': 'Suraj', 'Last Name': 'Sharma'}\n"
     ]
    }
   ],
   "source": [
    "''' Example: A single dictionary entry contains two keys 'First Name' and 'Last Name'. the list should be sorted first based on 'First Name', \n",
    "then based on 'Last Name', w.r.t. common/same 'First Name' entries.for this, one shall past sorting order of preference \n",
    "list [ 'First Name' , 'Last Name' ]\n",
    "For this, Given the following sequence List:'''\n",
    "\n",
    "def multilevel_selection_sort(elements, sort_by_list):\n",
    "    for sort_by in sort_by_list[-1::-1]:\n",
    "        for x in range(len(elements)):\n",
    "            min_index = x\n",
    "            for y in range(x, len(elements)):\n",
    "                if elements[y][sort_by] < elements[min_index][sort_by]:\n",
    "                    min_index = y\n",
    "            if x != min_index:\n",
    "                elements[x], elements[min_index] = elements[min_index], elements[x]\n",
    "\n",
    "\n",
    "if __name__ == '__main__':\n",
    "    elements = [\n",
    "        {'First Name': 'Raj', 'Last Name': 'Nayyar'},\n",
    "        {'First Name': 'Suraj', 'Last Name': 'Sharma'},\n",
    "        {'First Name': 'Karan', 'Last Name': 'Kumar'},\n",
    "        {'First Name': 'Jade', 'Last Name': 'Canary'},\n",
    "        {'First Name': 'Raj', 'Last Name': 'Thakur'},\n",
    "        {'First Name': 'Raj', 'Last Name': 'Sharma'},\n",
    "        {'First Name': 'Kiran', 'Last Name': 'Kamla'},\n",
    "        {'First Name': 'Armaan', 'Last Name': 'Kumar'},\n",
    "        {'First Name': 'Jaya', 'Last Name': 'Sharma'},\n",
    "        {'First Name': 'Ingrid', 'Last Name': 'Galore'},\n",
    "        {'First Name': 'Jaya', 'Last Name': 'Seth'},\n",
    "        {'First Name': 'Armaan', 'Last Name': 'Dadra'},\n",
    "        {'First Name': 'Ingrid', 'Last Name': 'Maverick'},\n",
    "        {'First Name': 'Aahana', 'Last Name': 'Arora'}\n",
    "    ]\n",
    "\n",
    "    print(f'Given unsorted array:', *elements, sep='\\n')\n",
    "    multilevel_selection_sort(\n",
    "        elements, ['First Name', 'Last Name'])\n",
    "    print(f'Array after Multi-Level Sorting:', *elements, sep='\\n')"
   ]
  },
  {
   "cell_type": "markdown",
   "metadata": {
    "id": "W0T_MLRvtAga"
   },
   "source": [
    "Depth First Search"
   ]
  },
  {
   "cell_type": "code",
   "execution_count": null,
   "metadata": {
    "colab": {
     "base_uri": "https://localhost:8080/"
    },
    "id": "SQbmuHSLtCpy",
    "outputId": "1b2850ce-23f9-4775-bb81-d899cc6a7df1"
   },
   "outputs": [
    {
     "name": "stdout",
     "output_type": "stream",
     "text": [
      "A B C E D F "
     ]
    }
   ],
   "source": [
    "# function for depth first search\n",
    "def dfs(data, start, visited=set()):\n",
    "\n",
    "    # if not visited print it\n",
    "    if start not in visited:\n",
    "        print(start, end=\" \")\n",
    "\n",
    "    visited.add(start)\n",
    "\n",
    "    for i in data[start] - visited:\n",
    "\n",
    "        # if not visited gi in depth of it\n",
    "        dfs(data, i, visited)\n",
    "    return\n",
    "\n",
    "\n",
    "# sample data in dictionary form\n",
    "data = {\n",
    "        'A': {'B'},\n",
    "        'B': {'A', 'C', 'D'},\n",
    "        'C': {'B', 'E'},\n",
    "        'D': {'B', 'E'},\n",
    "        'E': {'C', 'D', 'F'},\n",
    "        'F': {'E'}\n",
    "        }\n",
    "\n",
    "\n",
    "if __name__ == '__main__':\n",
    "\n",
    "    dfs(data, 'A')"
   ]
  },
  {
   "cell_type": "markdown",
   "metadata": {
    "id": "Az47f9G0tO8t"
   },
   "source": [
    "Example: Darshan and Nikhil are reporting to Karan. Khantil and Tanuj are reporting to Darshan.\n",
    "Q. Find all employees who are reporting to Karan.\n",
    "\n",
    "Explanation:\n",
    "\n",
    "-So here, we want to find all the children nodes of Karan.\n",
    "\n",
    "-We will perform DFS starting on Karan and then traverse all the children of Karan which are unvisited.\n",
    "\n",
    "Output:\n",
    "\n",
    "karan : nikhil darshan tanuj khantil"
   ]
  },
  {
   "cell_type": "code",
   "execution_count": null,
   "metadata": {
    "colab": {
     "base_uri": "https://localhost:8080/"
    },
    "id": "FrgpZLqttFHr",
    "outputId": "5ad8560c-24a2-4bad-c758-58750397d9b4"
   },
   "outputs": [
    {
     "name": "stdout",
     "output_type": "stream",
     "text": [
      "karan : nikhil darshan khantil tanuj "
     ]
    }
   ],
   "source": [
    "# function for depth first search\n",
    "def find_employees(data, start, employee, visited=set()):\n",
    "    # if not visited print it\n",
    "    if start not in visited:\n",
    "        print(start, end=\" \")\n",
    "        if start == employee:\n",
    "            print(\":\", end=\" \")\n",
    "    visited.add(start)\n",
    "\n",
    "    for i in data[start] - visited:\n",
    "        # if not visited go in depth of it\n",
    "        find_employees(data, i, visited)\n",
    "    return\n",
    "\n",
    "\n",
    "# sample data in dictionary form\n",
    "data = {\n",
    "    \"karan\": {\"darshan\", \"nikhil\"},\n",
    "    \"darshan\": {\"khantil\", \"tanuj\"},\n",
    "    \"tanuj\": {\"nikhil\"},\n",
    "    \"krinish\": {\"hetul\"},\n",
    "    \"khantil\": set(),\n",
    "    \"nikhil\": set()\n",
    "}\n",
    "\n",
    "\n",
    "if __name__ == '__main__':\n",
    "\n",
    "    find_employees(data, \"karan\", \"karan\")"
   ]
  },
  {
   "cell_type": "markdown",
   "metadata": {
    "id": "S-G_H633tmCu"
   },
   "source": [
    "Recursive"
   ]
  },
  {
   "cell_type": "code",
   "execution_count": null,
   "metadata": {
    "colab": {
     "base_uri": "https://localhost:8080/"
    },
    "id": "ISBCQVCDtWHF",
    "outputId": "7b932477-7b5e-449b-cc69-97e54e533d1b"
   },
   "outputs": [
    {
     "name": "stdout",
     "output_type": "stream",
     "text": [
      "15\n",
      "55\n"
     ]
    }
   ],
   "source": [
    "def findsum(i):\n",
    "  if i==1:\n",
    "    return 1\n",
    "  return i + findsum(i-1)\n",
    "\n",
    "\n",
    "def fib(i):\n",
    "  if i==0 or i==1:\n",
    "    return i\n",
    "  return fib(i-1) + fib(i-2)\n",
    "\n",
    "if __name__ == \"__main__\":\n",
    "  print(findsum(5))\n",
    "  print(fib(10))"
   ]
  },
  {
   "cell_type": "markdown",
   "metadata": {
    "id": "ENAB7iag1dEo"
   },
   "source": [
    "Breadth Frist Search"
   ]
  },
  {
   "cell_type": "code",
   "execution_count": null,
   "metadata": {
    "colab": {
     "base_uri": "https://localhost:8080/"
    },
    "id": "hVWr-uH7xcw_",
    "outputId": "1f3c4928-0673-4260-9c96-5d541b910b6a"
   },
   "outputs": [
    {
     "name": "stdout",
     "output_type": "stream",
     "text": [
      "A B C D E F "
     ]
    }
   ],
   "source": [
    "def bfs(data, start, visited=set()):\n",
    "\n",
    "    queue = [start]\n",
    "\n",
    "    while queue:\n",
    "        current_node = queue.pop(0)\n",
    "        if current_node not in visited:\n",
    "            print(current_node, end=\" \")\n",
    "        visited.add(current_node)\n",
    "\n",
    "        for i in data[current_node] - visited:\n",
    "            queue.append(i)\n",
    "    return\n",
    "\n",
    "\n",
    "if __name__ == '__main__':\n",
    "\n",
    "    data = {\n",
    "        'A': {'B'}, 'B': {'A', 'C', 'D'}, 'C': {'B', 'E'}, 'D': {'B', 'E'},\n",
    "        'E': {'C', 'D', 'F'}, 'F': {'E'}\n",
    "    }\n",
    "\n",
    "    bfs(data, 'A')"
   ]
  },
  {
   "cell_type": "markdown",
   "metadata": {
    "id": "d-IgRGuq1oj1"
   },
   "source": [
    "BFS Traversal of a graph in python using graph given in dictionary\n",
    "\n",
    "Implement a function to find whether a path exists for a given set of airline routes. The routes are depicted using graphs as a dictionary of sets, where keys represent as source and elements of sets represent destinations. Print the path if it exists.\n",
    "\n",
    "Example: A, B, C, D, E, F are the nodes of the graph.\n",
    "\n",
    "For example, if you are given following data:"
   ]
  },
  {
   "cell_type": "code",
   "execution_count": null,
   "metadata": {
    "colab": {
     "base_uri": "https://localhost:8080/"
    },
    "id": "1H4W1iNP1jiQ",
    "outputId": "341d1717-d269-4869-9fed-649610cf7cd2"
   },
   "outputs": [
    {
     "name": "stdout",
     "output_type": "stream",
     "text": [
      "Path: A->B->C->D\n"
     ]
    }
   ],
   "source": [
    "def bfs(data, start, end, visited=[]):\n",
    "    queue = [start]\n",
    "\n",
    "    while queue:\n",
    "        current_node = queue.pop(0)\n",
    "        if current_node==end:\n",
    "            print(\"Path: \" + \"->\".join(visited) + \"->\" + end)\n",
    "            return\n",
    "        visited.append(current_node)\n",
    "\n",
    "        for i in data[current_node] - set(visited):\n",
    "            queue.append(i)\n",
    "    print(\"Path does not exist!\")    \n",
    "    return\n",
    "\n",
    "\n",
    "if __name__ == '__main__':\n",
    "  data = {\n",
    "    'A': {'B'},\n",
    "    'B': {'C', 'D'},\n",
    "    'C': {'E'},\n",
    "    'D': {'E'},\n",
    "    'E': {'F'},\n",
    "    'F': set()\n",
    "  }\n",
    "  bfs(data, 'A', 'D')"
   ]
  },
  {
   "cell_type": "code",
   "execution_count": null,
   "metadata": {
    "id": "gonFG32kSIHN"
   },
   "outputs": [],
   "source": [
    "import pandas as pd\n",
    "\n",
    "X={\"age\":[22,25,47,52,46,56,55,60,62,61,18,28,27,29,49],\"Insurance\":[0,0,1,0,1,1,0,1,1,1,0,0,0,0,1]}\n",
    "\n",
    "data = pd.DataFrame(X)"
   ]
  },
  {
   "cell_type": "code",
   "execution_count": null,
   "metadata": {
    "colab": {
     "base_uri": "https://localhost:8080/",
     "height": 520
    },
    "id": "3-3kb9dKWNDG",
    "outputId": "648ae395-0eaf-450e-dd83-9d5b44adfadc"
   },
   "outputs": [
    {
     "data": {
      "text/html": [
       "\n",
       "  <div id=\"df-09df36cf-e690-408d-b6be-b1c9691ff339\">\n",
       "    <div class=\"colab-df-container\">\n",
       "      <div>\n",
       "<style scoped>\n",
       "    .dataframe tbody tr th:only-of-type {\n",
       "        vertical-align: middle;\n",
       "    }\n",
       "\n",
       "    .dataframe tbody tr th {\n",
       "        vertical-align: top;\n",
       "    }\n",
       "\n",
       "    .dataframe thead th {\n",
       "        text-align: right;\n",
       "    }\n",
       "</style>\n",
       "<table border=\"1\" class=\"dataframe\">\n",
       "  <thead>\n",
       "    <tr style=\"text-align: right;\">\n",
       "      <th></th>\n",
       "      <th>age</th>\n",
       "      <th>Insurance</th>\n",
       "    </tr>\n",
       "  </thead>\n",
       "  <tbody>\n",
       "    <tr>\n",
       "      <th>0</th>\n",
       "      <td>22</td>\n",
       "      <td>0</td>\n",
       "    </tr>\n",
       "    <tr>\n",
       "      <th>1</th>\n",
       "      <td>25</td>\n",
       "      <td>0</td>\n",
       "    </tr>\n",
       "    <tr>\n",
       "      <th>2</th>\n",
       "      <td>47</td>\n",
       "      <td>1</td>\n",
       "    </tr>\n",
       "    <tr>\n",
       "      <th>3</th>\n",
       "      <td>52</td>\n",
       "      <td>0</td>\n",
       "    </tr>\n",
       "    <tr>\n",
       "      <th>4</th>\n",
       "      <td>46</td>\n",
       "      <td>1</td>\n",
       "    </tr>\n",
       "    <tr>\n",
       "      <th>5</th>\n",
       "      <td>56</td>\n",
       "      <td>1</td>\n",
       "    </tr>\n",
       "    <tr>\n",
       "      <th>6</th>\n",
       "      <td>55</td>\n",
       "      <td>0</td>\n",
       "    </tr>\n",
       "    <tr>\n",
       "      <th>7</th>\n",
       "      <td>60</td>\n",
       "      <td>1</td>\n",
       "    </tr>\n",
       "    <tr>\n",
       "      <th>8</th>\n",
       "      <td>62</td>\n",
       "      <td>1</td>\n",
       "    </tr>\n",
       "    <tr>\n",
       "      <th>9</th>\n",
       "      <td>61</td>\n",
       "      <td>1</td>\n",
       "    </tr>\n",
       "    <tr>\n",
       "      <th>10</th>\n",
       "      <td>18</td>\n",
       "      <td>0</td>\n",
       "    </tr>\n",
       "    <tr>\n",
       "      <th>11</th>\n",
       "      <td>28</td>\n",
       "      <td>0</td>\n",
       "    </tr>\n",
       "    <tr>\n",
       "      <th>12</th>\n",
       "      <td>27</td>\n",
       "      <td>0</td>\n",
       "    </tr>\n",
       "    <tr>\n",
       "      <th>13</th>\n",
       "      <td>29</td>\n",
       "      <td>0</td>\n",
       "    </tr>\n",
       "    <tr>\n",
       "      <th>14</th>\n",
       "      <td>49</td>\n",
       "      <td>1</td>\n",
       "    </tr>\n",
       "  </tbody>\n",
       "</table>\n",
       "</div>\n",
       "      <button class=\"colab-df-convert\" onclick=\"convertToInteractive('df-09df36cf-e690-408d-b6be-b1c9691ff339')\"\n",
       "              title=\"Convert this dataframe to an interactive table.\"\n",
       "              style=\"display:none;\">\n",
       "        \n",
       "  <svg xmlns=\"http://www.w3.org/2000/svg\" height=\"24px\"viewBox=\"0 0 24 24\"\n",
       "       width=\"24px\">\n",
       "    <path d=\"M0 0h24v24H0V0z\" fill=\"none\"/>\n",
       "    <path d=\"M18.56 5.44l.94 2.06.94-2.06 2.06-.94-2.06-.94-.94-2.06-.94 2.06-2.06.94zm-11 1L8.5 8.5l.94-2.06 2.06-.94-2.06-.94L8.5 2.5l-.94 2.06-2.06.94zm10 10l.94 2.06.94-2.06 2.06-.94-2.06-.94-.94-2.06-.94 2.06-2.06.94z\"/><path d=\"M17.41 7.96l-1.37-1.37c-.4-.4-.92-.59-1.43-.59-.52 0-1.04.2-1.43.59L10.3 9.45l-7.72 7.72c-.78.78-.78 2.05 0 2.83L4 21.41c.39.39.9.59 1.41.59.51 0 1.02-.2 1.41-.59l7.78-7.78 2.81-2.81c.8-.78.8-2.07 0-2.86zM5.41 20L4 18.59l7.72-7.72 1.47 1.35L5.41 20z\"/>\n",
       "  </svg>\n",
       "      </button>\n",
       "      \n",
       "  <style>\n",
       "    .colab-df-container {\n",
       "      display:flex;\n",
       "      flex-wrap:wrap;\n",
       "      gap: 12px;\n",
       "    }\n",
       "\n",
       "    .colab-df-convert {\n",
       "      background-color: #E8F0FE;\n",
       "      border: none;\n",
       "      border-radius: 50%;\n",
       "      cursor: pointer;\n",
       "      display: none;\n",
       "      fill: #1967D2;\n",
       "      height: 32px;\n",
       "      padding: 0 0 0 0;\n",
       "      width: 32px;\n",
       "    }\n",
       "\n",
       "    .colab-df-convert:hover {\n",
       "      background-color: #E2EBFA;\n",
       "      box-shadow: 0px 1px 2px rgba(60, 64, 67, 0.3), 0px 1px 3px 1px rgba(60, 64, 67, 0.15);\n",
       "      fill: #174EA6;\n",
       "    }\n",
       "\n",
       "    [theme=dark] .colab-df-convert {\n",
       "      background-color: #3B4455;\n",
       "      fill: #D2E3FC;\n",
       "    }\n",
       "\n",
       "    [theme=dark] .colab-df-convert:hover {\n",
       "      background-color: #434B5C;\n",
       "      box-shadow: 0px 1px 3px 1px rgba(0, 0, 0, 0.15);\n",
       "      filter: drop-shadow(0px 1px 2px rgba(0, 0, 0, 0.3));\n",
       "      fill: #FFFFFF;\n",
       "    }\n",
       "  </style>\n",
       "\n",
       "      <script>\n",
       "        const buttonEl =\n",
       "          document.querySelector('#df-09df36cf-e690-408d-b6be-b1c9691ff339 button.colab-df-convert');\n",
       "        buttonEl.style.display =\n",
       "          google.colab.kernel.accessAllowed ? 'block' : 'none';\n",
       "\n",
       "        async function convertToInteractive(key) {\n",
       "          const element = document.querySelector('#df-09df36cf-e690-408d-b6be-b1c9691ff339');\n",
       "          const dataTable =\n",
       "            await google.colab.kernel.invokeFunction('convertToInteractive',\n",
       "                                                     [key], {});\n",
       "          if (!dataTable) return;\n",
       "\n",
       "          const docLinkHtml = 'Like what you see? Visit the ' +\n",
       "            '<a target=\"_blank\" href=https://colab.research.google.com/notebooks/data_table.ipynb>data table notebook</a>'\n",
       "            + ' to learn more about interactive tables.';\n",
       "          element.innerHTML = '';\n",
       "          dataTable['output_type'] = 'display_data';\n",
       "          await google.colab.output.renderOutput(dataTable, element);\n",
       "          const docLink = document.createElement('div');\n",
       "          docLink.innerHTML = docLinkHtml;\n",
       "          element.appendChild(docLink);\n",
       "        }\n",
       "      </script>\n",
       "    </div>\n",
       "  </div>\n",
       "  "
      ],
      "text/plain": [
       "    age  Insurance\n",
       "0    22          0\n",
       "1    25          0\n",
       "2    47          1\n",
       "3    52          0\n",
       "4    46          1\n",
       "5    56          1\n",
       "6    55          0\n",
       "7    60          1\n",
       "8    62          1\n",
       "9    61          1\n",
       "10   18          0\n",
       "11   28          0\n",
       "12   27          0\n",
       "13   29          0\n",
       "14   49          1"
      ]
     },
     "execution_count": 4,
     "metadata": {},
     "output_type": "execute_result"
    }
   ],
   "source": [
    "data"
   ]
  },
  {
   "cell_type": "code",
   "execution_count": null,
   "metadata": {
    "id": "IB-gTzwGWOfw"
   },
   "outputs": [],
   "source": [
    "data.to_csv('insurance.csv')"
   ]
  },
  {
   "cell_type": "code",
   "execution_count": null,
   "metadata": {
    "colab": {
     "base_uri": "https://localhost:8080/"
    },
    "id": "XAyJqSvQWnKm",
    "outputId": "0fe6af02-71ee-4845-d306-f6ec2722a078"
   },
   "outputs": [
    {
     "name": "stdout",
     "output_type": "stream",
     "text": [
      "Mounted at /content/MyDrive/\n"
     ]
    }
   ],
   "source": [
    "from google.colab import drive\n",
    "drive.mount(\"/content/MyDrive/\")"
   ]
  },
  {
   "cell_type": "code",
   "execution_count": null,
   "metadata": {
    "id": "L24YJcN6X2Mg"
   },
   "outputs": [],
   "source": [
    "import pandas as pd\n",
    "import numpy as np\n",
    "data = pd.read_csv(\"/content/MyDrive/MyDrive/insurance.csv\")"
   ]
  },
  {
   "cell_type": "code",
   "execution_count": null,
   "metadata": {
    "colab": {
     "base_uri": "https://localhost:8080/",
     "height": 520
    },
    "id": "BDwJheDrY2C7",
    "outputId": "bd4be01d-e6ba-428d-c416-f3d05cee885c"
   },
   "outputs": [
    {
     "data": {
      "text/html": [
       "\n",
       "  <div id=\"df-8e1a70f1-b441-40e6-84b7-09490fb489c9\">\n",
       "    <div class=\"colab-df-container\">\n",
       "      <div>\n",
       "<style scoped>\n",
       "    .dataframe tbody tr th:only-of-type {\n",
       "        vertical-align: middle;\n",
       "    }\n",
       "\n",
       "    .dataframe tbody tr th {\n",
       "        vertical-align: top;\n",
       "    }\n",
       "\n",
       "    .dataframe thead th {\n",
       "        text-align: right;\n",
       "    }\n",
       "</style>\n",
       "<table border=\"1\" class=\"dataframe\">\n",
       "  <thead>\n",
       "    <tr style=\"text-align: right;\">\n",
       "      <th></th>\n",
       "      <th>Unnamed: 0</th>\n",
       "      <th>age</th>\n",
       "      <th>Insurance</th>\n",
       "    </tr>\n",
       "  </thead>\n",
       "  <tbody>\n",
       "    <tr>\n",
       "      <th>0</th>\n",
       "      <td>0</td>\n",
       "      <td>22</td>\n",
       "      <td>0</td>\n",
       "    </tr>\n",
       "    <tr>\n",
       "      <th>1</th>\n",
       "      <td>1</td>\n",
       "      <td>25</td>\n",
       "      <td>0</td>\n",
       "    </tr>\n",
       "    <tr>\n",
       "      <th>2</th>\n",
       "      <td>2</td>\n",
       "      <td>47</td>\n",
       "      <td>1</td>\n",
       "    </tr>\n",
       "    <tr>\n",
       "      <th>3</th>\n",
       "      <td>3</td>\n",
       "      <td>52</td>\n",
       "      <td>0</td>\n",
       "    </tr>\n",
       "    <tr>\n",
       "      <th>4</th>\n",
       "      <td>4</td>\n",
       "      <td>46</td>\n",
       "      <td>1</td>\n",
       "    </tr>\n",
       "    <tr>\n",
       "      <th>5</th>\n",
       "      <td>5</td>\n",
       "      <td>56</td>\n",
       "      <td>1</td>\n",
       "    </tr>\n",
       "    <tr>\n",
       "      <th>6</th>\n",
       "      <td>6</td>\n",
       "      <td>55</td>\n",
       "      <td>0</td>\n",
       "    </tr>\n",
       "    <tr>\n",
       "      <th>7</th>\n",
       "      <td>7</td>\n",
       "      <td>60</td>\n",
       "      <td>1</td>\n",
       "    </tr>\n",
       "    <tr>\n",
       "      <th>8</th>\n",
       "      <td>8</td>\n",
       "      <td>62</td>\n",
       "      <td>1</td>\n",
       "    </tr>\n",
       "    <tr>\n",
       "      <th>9</th>\n",
       "      <td>9</td>\n",
       "      <td>61</td>\n",
       "      <td>1</td>\n",
       "    </tr>\n",
       "    <tr>\n",
       "      <th>10</th>\n",
       "      <td>10</td>\n",
       "      <td>18</td>\n",
       "      <td>0</td>\n",
       "    </tr>\n",
       "    <tr>\n",
       "      <th>11</th>\n",
       "      <td>11</td>\n",
       "      <td>28</td>\n",
       "      <td>0</td>\n",
       "    </tr>\n",
       "    <tr>\n",
       "      <th>12</th>\n",
       "      <td>12</td>\n",
       "      <td>27</td>\n",
       "      <td>0</td>\n",
       "    </tr>\n",
       "    <tr>\n",
       "      <th>13</th>\n",
       "      <td>13</td>\n",
       "      <td>29</td>\n",
       "      <td>0</td>\n",
       "    </tr>\n",
       "    <tr>\n",
       "      <th>14</th>\n",
       "      <td>14</td>\n",
       "      <td>49</td>\n",
       "      <td>1</td>\n",
       "    </tr>\n",
       "  </tbody>\n",
       "</table>\n",
       "</div>\n",
       "      <button class=\"colab-df-convert\" onclick=\"convertToInteractive('df-8e1a70f1-b441-40e6-84b7-09490fb489c9')\"\n",
       "              title=\"Convert this dataframe to an interactive table.\"\n",
       "              style=\"display:none;\">\n",
       "        \n",
       "  <svg xmlns=\"http://www.w3.org/2000/svg\" height=\"24px\"viewBox=\"0 0 24 24\"\n",
       "       width=\"24px\">\n",
       "    <path d=\"M0 0h24v24H0V0z\" fill=\"none\"/>\n",
       "    <path d=\"M18.56 5.44l.94 2.06.94-2.06 2.06-.94-2.06-.94-.94-2.06-.94 2.06-2.06.94zm-11 1L8.5 8.5l.94-2.06 2.06-.94-2.06-.94L8.5 2.5l-.94 2.06-2.06.94zm10 10l.94 2.06.94-2.06 2.06-.94-2.06-.94-.94-2.06-.94 2.06-2.06.94z\"/><path d=\"M17.41 7.96l-1.37-1.37c-.4-.4-.92-.59-1.43-.59-.52 0-1.04.2-1.43.59L10.3 9.45l-7.72 7.72c-.78.78-.78 2.05 0 2.83L4 21.41c.39.39.9.59 1.41.59.51 0 1.02-.2 1.41-.59l7.78-7.78 2.81-2.81c.8-.78.8-2.07 0-2.86zM5.41 20L4 18.59l7.72-7.72 1.47 1.35L5.41 20z\"/>\n",
       "  </svg>\n",
       "      </button>\n",
       "      \n",
       "  <style>\n",
       "    .colab-df-container {\n",
       "      display:flex;\n",
       "      flex-wrap:wrap;\n",
       "      gap: 12px;\n",
       "    }\n",
       "\n",
       "    .colab-df-convert {\n",
       "      background-color: #E8F0FE;\n",
       "      border: none;\n",
       "      border-radius: 50%;\n",
       "      cursor: pointer;\n",
       "      display: none;\n",
       "      fill: #1967D2;\n",
       "      height: 32px;\n",
       "      padding: 0 0 0 0;\n",
       "      width: 32px;\n",
       "    }\n",
       "\n",
       "    .colab-df-convert:hover {\n",
       "      background-color: #E2EBFA;\n",
       "      box-shadow: 0px 1px 2px rgba(60, 64, 67, 0.3), 0px 1px 3px 1px rgba(60, 64, 67, 0.15);\n",
       "      fill: #174EA6;\n",
       "    }\n",
       "\n",
       "    [theme=dark] .colab-df-convert {\n",
       "      background-color: #3B4455;\n",
       "      fill: #D2E3FC;\n",
       "    }\n",
       "\n",
       "    [theme=dark] .colab-df-convert:hover {\n",
       "      background-color: #434B5C;\n",
       "      box-shadow: 0px 1px 3px 1px rgba(0, 0, 0, 0.15);\n",
       "      filter: drop-shadow(0px 1px 2px rgba(0, 0, 0, 0.3));\n",
       "      fill: #FFFFFF;\n",
       "    }\n",
       "  </style>\n",
       "\n",
       "      <script>\n",
       "        const buttonEl =\n",
       "          document.querySelector('#df-8e1a70f1-b441-40e6-84b7-09490fb489c9 button.colab-df-convert');\n",
       "        buttonEl.style.display =\n",
       "          google.colab.kernel.accessAllowed ? 'block' : 'none';\n",
       "\n",
       "        async function convertToInteractive(key) {\n",
       "          const element = document.querySelector('#df-8e1a70f1-b441-40e6-84b7-09490fb489c9');\n",
       "          const dataTable =\n",
       "            await google.colab.kernel.invokeFunction('convertToInteractive',\n",
       "                                                     [key], {});\n",
       "          if (!dataTable) return;\n",
       "\n",
       "          const docLinkHtml = 'Like what you see? Visit the ' +\n",
       "            '<a target=\"_blank\" href=https://colab.research.google.com/notebooks/data_table.ipynb>data table notebook</a>'\n",
       "            + ' to learn more about interactive tables.';\n",
       "          element.innerHTML = '';\n",
       "          dataTable['output_type'] = 'display_data';\n",
       "          await google.colab.output.renderOutput(dataTable, element);\n",
       "          const docLink = document.createElement('div');\n",
       "          docLink.innerHTML = docLinkHtml;\n",
       "          element.appendChild(docLink);\n",
       "        }\n",
       "      </script>\n",
       "    </div>\n",
       "  </div>\n",
       "  "
      ],
      "text/plain": [
       "    Unnamed: 0  age  Insurance\n",
       "0            0   22          0\n",
       "1            1   25          0\n",
       "2            2   47          1\n",
       "3            3   52          0\n",
       "4            4   46          1\n",
       "5            5   56          1\n",
       "6            6   55          0\n",
       "7            7   60          1\n",
       "8            8   62          1\n",
       "9            9   61          1\n",
       "10          10   18          0\n",
       "11          11   28          0\n",
       "12          12   27          0\n",
       "13          13   29          0\n",
       "14          14   49          1"
      ]
     },
     "execution_count": 3,
     "metadata": {},
     "output_type": "execute_result"
    }
   ],
   "source": [
    "data"
   ]
  },
  {
   "cell_type": "code",
   "execution_count": null,
   "metadata": {
    "colab": {
     "base_uri": "https://localhost:8080/",
     "height": 520
    },
    "id": "pOIzXX-VY3mQ",
    "outputId": "38bbceec-e410-427d-91e6-84fc53e6a619"
   },
   "outputs": [
    {
     "data": {
      "text/html": [
       "\n",
       "  <div id=\"df-332f1df8-4094-4bac-87dc-43f701185480\">\n",
       "    <div class=\"colab-df-container\">\n",
       "      <div>\n",
       "<style scoped>\n",
       "    .dataframe tbody tr th:only-of-type {\n",
       "        vertical-align: middle;\n",
       "    }\n",
       "\n",
       "    .dataframe tbody tr th {\n",
       "        vertical-align: top;\n",
       "    }\n",
       "\n",
       "    .dataframe thead th {\n",
       "        text-align: right;\n",
       "    }\n",
       "</style>\n",
       "<table border=\"1\" class=\"dataframe\">\n",
       "  <thead>\n",
       "    <tr style=\"text-align: right;\">\n",
       "      <th></th>\n",
       "      <th>Unnamed: 0</th>\n",
       "      <th>age</th>\n",
       "      <th>Insurance</th>\n",
       "    </tr>\n",
       "  </thead>\n",
       "  <tbody>\n",
       "    <tr>\n",
       "      <th>0</th>\n",
       "      <td>False</td>\n",
       "      <td>False</td>\n",
       "      <td>False</td>\n",
       "    </tr>\n",
       "    <tr>\n",
       "      <th>1</th>\n",
       "      <td>False</td>\n",
       "      <td>False</td>\n",
       "      <td>False</td>\n",
       "    </tr>\n",
       "    <tr>\n",
       "      <th>2</th>\n",
       "      <td>False</td>\n",
       "      <td>False</td>\n",
       "      <td>False</td>\n",
       "    </tr>\n",
       "    <tr>\n",
       "      <th>3</th>\n",
       "      <td>False</td>\n",
       "      <td>False</td>\n",
       "      <td>False</td>\n",
       "    </tr>\n",
       "    <tr>\n",
       "      <th>4</th>\n",
       "      <td>False</td>\n",
       "      <td>False</td>\n",
       "      <td>False</td>\n",
       "    </tr>\n",
       "    <tr>\n",
       "      <th>5</th>\n",
       "      <td>False</td>\n",
       "      <td>False</td>\n",
       "      <td>False</td>\n",
       "    </tr>\n",
       "    <tr>\n",
       "      <th>6</th>\n",
       "      <td>False</td>\n",
       "      <td>False</td>\n",
       "      <td>False</td>\n",
       "    </tr>\n",
       "    <tr>\n",
       "      <th>7</th>\n",
       "      <td>False</td>\n",
       "      <td>False</td>\n",
       "      <td>False</td>\n",
       "    </tr>\n",
       "    <tr>\n",
       "      <th>8</th>\n",
       "      <td>False</td>\n",
       "      <td>False</td>\n",
       "      <td>False</td>\n",
       "    </tr>\n",
       "    <tr>\n",
       "      <th>9</th>\n",
       "      <td>False</td>\n",
       "      <td>False</td>\n",
       "      <td>False</td>\n",
       "    </tr>\n",
       "    <tr>\n",
       "      <th>10</th>\n",
       "      <td>False</td>\n",
       "      <td>False</td>\n",
       "      <td>False</td>\n",
       "    </tr>\n",
       "    <tr>\n",
       "      <th>11</th>\n",
       "      <td>False</td>\n",
       "      <td>False</td>\n",
       "      <td>False</td>\n",
       "    </tr>\n",
       "    <tr>\n",
       "      <th>12</th>\n",
       "      <td>False</td>\n",
       "      <td>False</td>\n",
       "      <td>False</td>\n",
       "    </tr>\n",
       "    <tr>\n",
       "      <th>13</th>\n",
       "      <td>False</td>\n",
       "      <td>False</td>\n",
       "      <td>False</td>\n",
       "    </tr>\n",
       "    <tr>\n",
       "      <th>14</th>\n",
       "      <td>False</td>\n",
       "      <td>False</td>\n",
       "      <td>False</td>\n",
       "    </tr>\n",
       "  </tbody>\n",
       "</table>\n",
       "</div>\n",
       "      <button class=\"colab-df-convert\" onclick=\"convertToInteractive('df-332f1df8-4094-4bac-87dc-43f701185480')\"\n",
       "              title=\"Convert this dataframe to an interactive table.\"\n",
       "              style=\"display:none;\">\n",
       "        \n",
       "  <svg xmlns=\"http://www.w3.org/2000/svg\" height=\"24px\"viewBox=\"0 0 24 24\"\n",
       "       width=\"24px\">\n",
       "    <path d=\"M0 0h24v24H0V0z\" fill=\"none\"/>\n",
       "    <path d=\"M18.56 5.44l.94 2.06.94-2.06 2.06-.94-2.06-.94-.94-2.06-.94 2.06-2.06.94zm-11 1L8.5 8.5l.94-2.06 2.06-.94-2.06-.94L8.5 2.5l-.94 2.06-2.06.94zm10 10l.94 2.06.94-2.06 2.06-.94-2.06-.94-.94-2.06-.94 2.06-2.06.94z\"/><path d=\"M17.41 7.96l-1.37-1.37c-.4-.4-.92-.59-1.43-.59-.52 0-1.04.2-1.43.59L10.3 9.45l-7.72 7.72c-.78.78-.78 2.05 0 2.83L4 21.41c.39.39.9.59 1.41.59.51 0 1.02-.2 1.41-.59l7.78-7.78 2.81-2.81c.8-.78.8-2.07 0-2.86zM5.41 20L4 18.59l7.72-7.72 1.47 1.35L5.41 20z\"/>\n",
       "  </svg>\n",
       "      </button>\n",
       "      \n",
       "  <style>\n",
       "    .colab-df-container {\n",
       "      display:flex;\n",
       "      flex-wrap:wrap;\n",
       "      gap: 12px;\n",
       "    }\n",
       "\n",
       "    .colab-df-convert {\n",
       "      background-color: #E8F0FE;\n",
       "      border: none;\n",
       "      border-radius: 50%;\n",
       "      cursor: pointer;\n",
       "      display: none;\n",
       "      fill: #1967D2;\n",
       "      height: 32px;\n",
       "      padding: 0 0 0 0;\n",
       "      width: 32px;\n",
       "    }\n",
       "\n",
       "    .colab-df-convert:hover {\n",
       "      background-color: #E2EBFA;\n",
       "      box-shadow: 0px 1px 2px rgba(60, 64, 67, 0.3), 0px 1px 3px 1px rgba(60, 64, 67, 0.15);\n",
       "      fill: #174EA6;\n",
       "    }\n",
       "\n",
       "    [theme=dark] .colab-df-convert {\n",
       "      background-color: #3B4455;\n",
       "      fill: #D2E3FC;\n",
       "    }\n",
       "\n",
       "    [theme=dark] .colab-df-convert:hover {\n",
       "      background-color: #434B5C;\n",
       "      box-shadow: 0px 1px 3px 1px rgba(0, 0, 0, 0.15);\n",
       "      filter: drop-shadow(0px 1px 2px rgba(0, 0, 0, 0.3));\n",
       "      fill: #FFFFFF;\n",
       "    }\n",
       "  </style>\n",
       "\n",
       "      <script>\n",
       "        const buttonEl =\n",
       "          document.querySelector('#df-332f1df8-4094-4bac-87dc-43f701185480 button.colab-df-convert');\n",
       "        buttonEl.style.display =\n",
       "          google.colab.kernel.accessAllowed ? 'block' : 'none';\n",
       "\n",
       "        async function convertToInteractive(key) {\n",
       "          const element = document.querySelector('#df-332f1df8-4094-4bac-87dc-43f701185480');\n",
       "          const dataTable =\n",
       "            await google.colab.kernel.invokeFunction('convertToInteractive',\n",
       "                                                     [key], {});\n",
       "          if (!dataTable) return;\n",
       "\n",
       "          const docLinkHtml = 'Like what you see? Visit the ' +\n",
       "            '<a target=\"_blank\" href=https://colab.research.google.com/notebooks/data_table.ipynb>data table notebook</a>'\n",
       "            + ' to learn more about interactive tables.';\n",
       "          element.innerHTML = '';\n",
       "          dataTable['output_type'] = 'display_data';\n",
       "          await google.colab.output.renderOutput(dataTable, element);\n",
       "          const docLink = document.createElement('div');\n",
       "          docLink.innerHTML = docLinkHtml;\n",
       "          element.appendChild(docLink);\n",
       "        }\n",
       "      </script>\n",
       "    </div>\n",
       "  </div>\n",
       "  "
      ],
      "text/plain": [
       "    Unnamed: 0    age  Insurance\n",
       "0        False  False      False\n",
       "1        False  False      False\n",
       "2        False  False      False\n",
       "3        False  False      False\n",
       "4        False  False      False\n",
       "5        False  False      False\n",
       "6        False  False      False\n",
       "7        False  False      False\n",
       "8        False  False      False\n",
       "9        False  False      False\n",
       "10       False  False      False\n",
       "11       False  False      False\n",
       "12       False  False      False\n",
       "13       False  False      False\n",
       "14       False  False      False"
      ]
     },
     "execution_count": 4,
     "metadata": {},
     "output_type": "execute_result"
    }
   ],
   "source": [
    "data.isnull()"
   ]
  },
  {
   "cell_type": "code",
   "execution_count": null,
   "metadata": {
    "colab": {
     "base_uri": "https://localhost:8080/"
    },
    "id": "DfLk4DR0ZA1T",
    "outputId": "172a0a63-afd2-4d33-dce2-4b8ca323b37d"
   },
   "outputs": [
    {
     "data": {
      "text/plain": [
       "Unnamed: 0    int64\n",
       "age           int64\n",
       "Insurance     int64\n",
       "dtype: object"
      ]
     },
     "execution_count": 5,
     "metadata": {},
     "output_type": "execute_result"
    }
   ],
   "source": [
    "data.dtypes"
   ]
  },
  {
   "cell_type": "code",
   "execution_count": null,
   "metadata": {
    "id": "YQ2cOoH9ZD_6"
   },
   "outputs": [],
   "source": [
    "data.drop(data.columns[0], axis = 1, inplace = True)"
   ]
  },
  {
   "cell_type": "code",
   "execution_count": null,
   "metadata": {
    "colab": {
     "base_uri": "https://localhost:8080/",
     "height": 520
    },
    "id": "NaNxxOjKZKDQ",
    "outputId": "1936e8f8-da5f-43a1-c911-46cccc082758"
   },
   "outputs": [
    {
     "data": {
      "text/html": [
       "\n",
       "  <div id=\"df-5efaaf34-be46-4dac-874a-cefa0ffc9667\">\n",
       "    <div class=\"colab-df-container\">\n",
       "      <div>\n",
       "<style scoped>\n",
       "    .dataframe tbody tr th:only-of-type {\n",
       "        vertical-align: middle;\n",
       "    }\n",
       "\n",
       "    .dataframe tbody tr th {\n",
       "        vertical-align: top;\n",
       "    }\n",
       "\n",
       "    .dataframe thead th {\n",
       "        text-align: right;\n",
       "    }\n",
       "</style>\n",
       "<table border=\"1\" class=\"dataframe\">\n",
       "  <thead>\n",
       "    <tr style=\"text-align: right;\">\n",
       "      <th></th>\n",
       "      <th>age</th>\n",
       "      <th>Insurance</th>\n",
       "    </tr>\n",
       "  </thead>\n",
       "  <tbody>\n",
       "    <tr>\n",
       "      <th>0</th>\n",
       "      <td>22</td>\n",
       "      <td>0</td>\n",
       "    </tr>\n",
       "    <tr>\n",
       "      <th>1</th>\n",
       "      <td>25</td>\n",
       "      <td>0</td>\n",
       "    </tr>\n",
       "    <tr>\n",
       "      <th>2</th>\n",
       "      <td>47</td>\n",
       "      <td>1</td>\n",
       "    </tr>\n",
       "    <tr>\n",
       "      <th>3</th>\n",
       "      <td>52</td>\n",
       "      <td>0</td>\n",
       "    </tr>\n",
       "    <tr>\n",
       "      <th>4</th>\n",
       "      <td>46</td>\n",
       "      <td>1</td>\n",
       "    </tr>\n",
       "    <tr>\n",
       "      <th>5</th>\n",
       "      <td>56</td>\n",
       "      <td>1</td>\n",
       "    </tr>\n",
       "    <tr>\n",
       "      <th>6</th>\n",
       "      <td>55</td>\n",
       "      <td>0</td>\n",
       "    </tr>\n",
       "    <tr>\n",
       "      <th>7</th>\n",
       "      <td>60</td>\n",
       "      <td>1</td>\n",
       "    </tr>\n",
       "    <tr>\n",
       "      <th>8</th>\n",
       "      <td>62</td>\n",
       "      <td>1</td>\n",
       "    </tr>\n",
       "    <tr>\n",
       "      <th>9</th>\n",
       "      <td>61</td>\n",
       "      <td>1</td>\n",
       "    </tr>\n",
       "    <tr>\n",
       "      <th>10</th>\n",
       "      <td>18</td>\n",
       "      <td>0</td>\n",
       "    </tr>\n",
       "    <tr>\n",
       "      <th>11</th>\n",
       "      <td>28</td>\n",
       "      <td>0</td>\n",
       "    </tr>\n",
       "    <tr>\n",
       "      <th>12</th>\n",
       "      <td>27</td>\n",
       "      <td>0</td>\n",
       "    </tr>\n",
       "    <tr>\n",
       "      <th>13</th>\n",
       "      <td>29</td>\n",
       "      <td>0</td>\n",
       "    </tr>\n",
       "    <tr>\n",
       "      <th>14</th>\n",
       "      <td>49</td>\n",
       "      <td>1</td>\n",
       "    </tr>\n",
       "  </tbody>\n",
       "</table>\n",
       "</div>\n",
       "      <button class=\"colab-df-convert\" onclick=\"convertToInteractive('df-5efaaf34-be46-4dac-874a-cefa0ffc9667')\"\n",
       "              title=\"Convert this dataframe to an interactive table.\"\n",
       "              style=\"display:none;\">\n",
       "        \n",
       "  <svg xmlns=\"http://www.w3.org/2000/svg\" height=\"24px\"viewBox=\"0 0 24 24\"\n",
       "       width=\"24px\">\n",
       "    <path d=\"M0 0h24v24H0V0z\" fill=\"none\"/>\n",
       "    <path d=\"M18.56 5.44l.94 2.06.94-2.06 2.06-.94-2.06-.94-.94-2.06-.94 2.06-2.06.94zm-11 1L8.5 8.5l.94-2.06 2.06-.94-2.06-.94L8.5 2.5l-.94 2.06-2.06.94zm10 10l.94 2.06.94-2.06 2.06-.94-2.06-.94-.94-2.06-.94 2.06-2.06.94z\"/><path d=\"M17.41 7.96l-1.37-1.37c-.4-.4-.92-.59-1.43-.59-.52 0-1.04.2-1.43.59L10.3 9.45l-7.72 7.72c-.78.78-.78 2.05 0 2.83L4 21.41c.39.39.9.59 1.41.59.51 0 1.02-.2 1.41-.59l7.78-7.78 2.81-2.81c.8-.78.8-2.07 0-2.86zM5.41 20L4 18.59l7.72-7.72 1.47 1.35L5.41 20z\"/>\n",
       "  </svg>\n",
       "      </button>\n",
       "      \n",
       "  <style>\n",
       "    .colab-df-container {\n",
       "      display:flex;\n",
       "      flex-wrap:wrap;\n",
       "      gap: 12px;\n",
       "    }\n",
       "\n",
       "    .colab-df-convert {\n",
       "      background-color: #E8F0FE;\n",
       "      border: none;\n",
       "      border-radius: 50%;\n",
       "      cursor: pointer;\n",
       "      display: none;\n",
       "      fill: #1967D2;\n",
       "      height: 32px;\n",
       "      padding: 0 0 0 0;\n",
       "      width: 32px;\n",
       "    }\n",
       "\n",
       "    .colab-df-convert:hover {\n",
       "      background-color: #E2EBFA;\n",
       "      box-shadow: 0px 1px 2px rgba(60, 64, 67, 0.3), 0px 1px 3px 1px rgba(60, 64, 67, 0.15);\n",
       "      fill: #174EA6;\n",
       "    }\n",
       "\n",
       "    [theme=dark] .colab-df-convert {\n",
       "      background-color: #3B4455;\n",
       "      fill: #D2E3FC;\n",
       "    }\n",
       "\n",
       "    [theme=dark] .colab-df-convert:hover {\n",
       "      background-color: #434B5C;\n",
       "      box-shadow: 0px 1px 3px 1px rgba(0, 0, 0, 0.15);\n",
       "      filter: drop-shadow(0px 1px 2px rgba(0, 0, 0, 0.3));\n",
       "      fill: #FFFFFF;\n",
       "    }\n",
       "  </style>\n",
       "\n",
       "      <script>\n",
       "        const buttonEl =\n",
       "          document.querySelector('#df-5efaaf34-be46-4dac-874a-cefa0ffc9667 button.colab-df-convert');\n",
       "        buttonEl.style.display =\n",
       "          google.colab.kernel.accessAllowed ? 'block' : 'none';\n",
       "\n",
       "        async function convertToInteractive(key) {\n",
       "          const element = document.querySelector('#df-5efaaf34-be46-4dac-874a-cefa0ffc9667');\n",
       "          const dataTable =\n",
       "            await google.colab.kernel.invokeFunction('convertToInteractive',\n",
       "                                                     [key], {});\n",
       "          if (!dataTable) return;\n",
       "\n",
       "          const docLinkHtml = 'Like what you see? Visit the ' +\n",
       "            '<a target=\"_blank\" href=https://colab.research.google.com/notebooks/data_table.ipynb>data table notebook</a>'\n",
       "            + ' to learn more about interactive tables.';\n",
       "          element.innerHTML = '';\n",
       "          dataTable['output_type'] = 'display_data';\n",
       "          await google.colab.output.renderOutput(dataTable, element);\n",
       "          const docLink = document.createElement('div');\n",
       "          docLink.innerHTML = docLinkHtml;\n",
       "          element.appendChild(docLink);\n",
       "        }\n",
       "      </script>\n",
       "    </div>\n",
       "  </div>\n",
       "  "
      ],
      "text/plain": [
       "    age  Insurance\n",
       "0    22          0\n",
       "1    25          0\n",
       "2    47          1\n",
       "3    52          0\n",
       "4    46          1\n",
       "5    56          1\n",
       "6    55          0\n",
       "7    60          1\n",
       "8    62          1\n",
       "9    61          1\n",
       "10   18          0\n",
       "11   28          0\n",
       "12   27          0\n",
       "13   29          0\n",
       "14   49          1"
      ]
     },
     "execution_count": 9,
     "metadata": {},
     "output_type": "execute_result"
    }
   ],
   "source": [
    "data"
   ]
  },
  {
   "cell_type": "code",
   "execution_count": null,
   "metadata": {
    "id": "5CWkKfKXZqtG"
   },
   "outputs": [],
   "source": [
    "def mean_X(x):\n",
    "  return sum(x)/len(x)\n",
    "def mean_Y(y):\n",
    "  return sum(y)/len(y)\n",
    "\n",
    "def covariance(x,y):\n",
    "  return sum((x - (sum(x)/len(x))) * (y - (sum(y)/len(y))))"
   ]
  },
  {
   "cell_type": "code",
   "execution_count": null,
   "metadata": {
    "colab": {
     "base_uri": "https://localhost:8080/"
    },
    "id": "iadsRNZ2fTYj",
    "outputId": "bb5ed661-023c-482f-fcce-2b818366293f"
   },
   "outputs": [
    {
     "data": {
      "text/plain": [
       "42.46666666666667"
      ]
     },
     "execution_count": 46,
     "metadata": {},
     "output_type": "execute_result"
    }
   ],
   "source": [
    "mean_X(data['age'])"
   ]
  },
  {
   "cell_type": "code",
   "execution_count": null,
   "metadata": {
    "colab": {
     "base_uri": "https://localhost:8080/"
    },
    "id": "aUJkvsQwf649",
    "outputId": "36bebdf2-5f7b-46dd-aa23-3a1c3352e0b0"
   },
   "outputs": [
    {
     "data": {
      "text/plain": [
       "0.4666666666666667"
      ]
     },
     "execution_count": 47,
     "metadata": {},
     "output_type": "execute_result"
    }
   ],
   "source": [
    "mean_Y(data['Insurance'])"
   ]
  },
  {
   "cell_type": "code",
   "execution_count": null,
   "metadata": {
    "id": "hpWPi9x5gXgl"
   },
   "outputs": [],
   "source": [
    "x = data['age']\n",
    "y = data['Insurance']"
   ]
  },
  {
   "cell_type": "code",
   "execution_count": null,
   "metadata": {
    "colab": {
     "base_uri": "https://localhost:8080/"
    },
    "id": "ZkoOl6fthpMI",
    "outputId": "24e42181-ce7b-456d-fe56-d79c1b914e1f"
   },
   "outputs": [
    {
     "data": {
      "text/plain": [
       "83.73333333333335"
      ]
     },
     "execution_count": 49,
     "metadata": {},
     "output_type": "execute_result"
    }
   ],
   "source": [
    "covariance(x,y)"
   ]
  },
  {
   "cell_type": "code",
   "execution_count": null,
   "metadata": {
    "id": "mC7nXOQ8hsWu"
   },
   "outputs": [],
   "source": [
    "def vari(x):\n",
    "  return sum((x - (sum(x)/len(x)))**2)"
   ]
  },
  {
   "cell_type": "code",
   "execution_count": null,
   "metadata": {
    "colab": {
     "base_uri": "https://localhost:8080/"
    },
    "id": "MwzFJNdNicjN",
    "outputId": "ddc4108f-ad58-4ae8-cca8-0520955e15d3"
   },
   "outputs": [
    {
     "data": {
      "text/plain": [
       "3491.7333333333336"
      ]
     },
     "execution_count": 51,
     "metadata": {},
     "output_type": "execute_result"
    }
   ],
   "source": [
    "vari(x)"
   ]
  },
  {
   "cell_type": "code",
   "execution_count": null,
   "metadata": {
    "colab": {
     "base_uri": "https://localhost:8080/"
    },
    "id": "DZt_Vya_j5NZ",
    "outputId": "fba7da5d-e2cf-4d44-dae0-075fe7975c9b"
   },
   "outputs": [
    {
     "data": {
      "text/plain": [
       "0.023980449060638464"
      ]
     },
     "execution_count": 52,
     "metadata": {},
     "output_type": "execute_result"
    }
   ],
   "source": [
    "lr = covariance(x,y)/vari(x)\n",
    "lr"
   ]
  },
  {
   "cell_type": "code",
   "execution_count": null,
   "metadata": {
    "id": "G4g5VcJCoHMO"
   },
   "outputs": [],
   "source": []
  }
 ],
 "metadata": {
  "colab": {
   "collapsed_sections": [],
   "name": "DS.ipynb",
   "provenance": []
  },
  "kernelspec": {
   "display_name": "Python 3",
   "language": "python",
   "name": "python3"
  },
  "language_info": {
   "codemirror_mode": {
    "name": "ipython",
    "version": 3
   },
   "file_extension": ".py",
   "mimetype": "text/x-python",
   "name": "python",
   "nbconvert_exporter": "python",
   "pygments_lexer": "ipython3",
   "version": "3.7.3"
  }
 },
 "nbformat": 4,
 "nbformat_minor": 1
}
